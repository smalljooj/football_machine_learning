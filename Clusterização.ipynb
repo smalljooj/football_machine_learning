{
 "cells": [
  {
   "cell_type": "code",
   "execution_count": 2,
   "id": "c0419135",
   "metadata": {},
   "outputs": [],
   "source": [
    "import numpy as np\n",
    "import pandas as pd\n",
    "import matplotlib.pyplot as plt\n",
    "import seaborn as sns\n",
    "import plotly as py\n",
    "import plotly.graph_objs as go\n",
    "from sklearn.cluster import KMeans\n",
    "from sklearn.preprocessing import MinMaxScaler\n",
    "from sklearn.neighbors import NearestNeighbors\n",
    "from sklearn.metrics.pairwise import euclidean_distances\n",
    "from sklearn.metrics.pairwise import cosine_distances"
   ]
  },
  {
   "cell_type": "code",
   "execution_count": 2,
   "id": "624f7cc3",
   "metadata": {},
   "outputs": [],
   "source": [
    "df_atack_1 = pd.read_csv('atacantes_mais_valorizados.csv').drop(['Unnamed: 0'], axis = 1)\n",
    "df_atack_2 = pd.read_csv('atacantes_menos_valorizados.csv').drop(['Unnamed: 0'], axis = 1)\n",
    "df_def = pd.read_csv('zagueiros.csv')"
   ]
  },
  {
   "cell_type": "markdown",
   "id": "0a0dfb48",
   "metadata": {},
   "source": [
    "# Clusterizando os atacantes"
   ]
  },
  {
   "cell_type": "markdown",
   "id": "0c55c75d",
   "metadata": {},
   "source": [
    "### Mais Valorizados"
   ]
  },
  {
   "cell_type": "markdown",
   "id": "6163a2cb",
   "metadata": {},
   "source": [
    "#### Selecionando as Features"
   ]
  },
  {
   "cell_type": "code",
   "execution_count": 3,
   "id": "1378b626",
   "metadata": {
    "scrolled": true
   },
   "outputs": [
    {
     "data": {
      "text/plain": [
       "Index(['Jogador', 'Equipe', 'Minutos jogados:', 'Golos', 'Assistências',\n",
       "       'Duelos ganhos, %', 'Altura', 'Duelos defensivos ganhos, %',\n",
       "       'Duelos aéreos ganhos, %', 'Interseções/90',\n",
       "       'Golos sem ser por penálti', 'Golos esperados/90', 'Golos de cabeça',\n",
       "       'Golos de cabeça/90', 'Remate', 'Remates à baliza, %',\n",
       "       'Golos marcados, %', 'Cruzamentos certos, %',\n",
       "       'Cruzamentos precisos do flanco esquerdo, %',\n",
       "       'Cruzamentos precisos do flanco direito, %', 'Dribles/90',\n",
       "       'Dribles com sucesso, %', 'Duelos ofensivos ganhos, %',\n",
       "       'Passes certos, %', 'Passes para a frente certos, %',\n",
       "       'Passes para trás certos, %', 'Passes laterais certos, %',\n",
       "       'Passes curtos / médios precisos, %', 'Passes longos certos, %',\n",
       "       'Passes inteligentes certos, %', 'Passes certos para terço final, %',\n",
       "       'Passes precisos para a área de penálti, %',\n",
       "       'Passes em profundidade certos, %', 'Passes progressivos certos, %'],\n",
       "      dtype='object')"
      ]
     },
     "execution_count": 3,
     "metadata": {},
     "output_type": "execute_result"
    }
   ],
   "source": [
    "df_atack_1.columns"
   ]
  },
  {
   "cell_type": "code",
   "execution_count": 4,
   "id": "c8a7db04",
   "metadata": {},
   "outputs": [],
   "source": [
    "X_at_1 = df_atack_1[['Minutos jogados:', \n",
    "       'Golos', \n",
    "       'Assistências', \n",
    "       'Duelos ganhos, %',\n",
    "       'Altura', \n",
    "       'Duelos defensivos ganhos, %', \n",
    "       'Duelos ofensivos ganhos, %',\n",
    "       'Duelos aéreos ganhos, %',\n",
    "       'Interseções/90', \n",
    "       'Golos sem ser por penálti', \n",
    "       'Golos esperados/90',\n",
    "       'Golos de cabeça', \n",
    "       'Golos de cabeça/90', \n",
    "       'Remate',\n",
    "       'Passes para a frente certos, %',\n",
    "       'Passes para trás certos, %'\n",
    "      ]].dropna()"
   ]
  },
  {
   "cell_type": "code",
   "execution_count": 5,
   "id": "45fb60d5",
   "metadata": {},
   "outputs": [],
   "source": [
    "for i in X_at_1.columns:\n",
    "  X_at_1[i] = MinMaxScaler().fit_transform(np.array(X_at_1[i]).reshape(-1,1))"
   ]
  },
  {
   "cell_type": "code",
   "execution_count": 6,
   "id": "a7c4a00f",
   "metadata": {
    "scrolled": true
   },
   "outputs": [
    {
     "data": {
      "text/html": [
       "<div>\n",
       "<style scoped>\n",
       "    .dataframe tbody tr th:only-of-type {\n",
       "        vertical-align: middle;\n",
       "    }\n",
       "\n",
       "    .dataframe tbody tr th {\n",
       "        vertical-align: top;\n",
       "    }\n",
       "\n",
       "    .dataframe thead th {\n",
       "        text-align: right;\n",
       "    }\n",
       "</style>\n",
       "<table border=\"1\" class=\"dataframe\">\n",
       "  <thead>\n",
       "    <tr style=\"text-align: right;\">\n",
       "      <th></th>\n",
       "      <th>Minutos jogados:</th>\n",
       "      <th>Golos</th>\n",
       "      <th>Assistências</th>\n",
       "      <th>Duelos ganhos, %</th>\n",
       "      <th>Altura</th>\n",
       "      <th>Duelos defensivos ganhos, %</th>\n",
       "      <th>Duelos ofensivos ganhos, %</th>\n",
       "      <th>Duelos aéreos ganhos, %</th>\n",
       "      <th>Interseções/90</th>\n",
       "      <th>Golos sem ser por penálti</th>\n",
       "      <th>Golos esperados/90</th>\n",
       "      <th>Golos de cabeça</th>\n",
       "      <th>Golos de cabeça/90</th>\n",
       "      <th>Remate</th>\n",
       "      <th>Passes para a frente certos, %</th>\n",
       "      <th>Passes para trás certos, %</th>\n",
       "    </tr>\n",
       "  </thead>\n",
       "  <tbody>\n",
       "    <tr>\n",
       "      <th>0</th>\n",
       "      <td>0.844302</td>\n",
       "      <td>0.487179</td>\n",
       "      <td>0.615385</td>\n",
       "      <td>0.591588</td>\n",
       "      <td>0.870</td>\n",
       "      <td>0.483731</td>\n",
       "      <td>0.744974</td>\n",
       "      <td>0.539102</td>\n",
       "      <td>0.463068</td>\n",
       "      <td>0.516129</td>\n",
       "      <td>0.573171</td>\n",
       "      <td>0.0</td>\n",
       "      <td>0.000000</td>\n",
       "      <td>0.829787</td>\n",
       "      <td>0.993918</td>\n",
       "      <td>0.795380</td>\n",
       "    </tr>\n",
       "    <tr>\n",
       "      <th>1</th>\n",
       "      <td>0.365948</td>\n",
       "      <td>0.256410</td>\n",
       "      <td>0.307692</td>\n",
       "      <td>0.275831</td>\n",
       "      <td>0.875</td>\n",
       "      <td>0.548241</td>\n",
       "      <td>0.425820</td>\n",
       "      <td>0.526522</td>\n",
       "      <td>0.593750</td>\n",
       "      <td>0.258065</td>\n",
       "      <td>0.719512</td>\n",
       "      <td>0.2</td>\n",
       "      <td>0.266667</td>\n",
       "      <td>0.351064</td>\n",
       "      <td>0.777609</td>\n",
       "      <td>0.644464</td>\n",
       "    </tr>\n",
       "    <tr>\n",
       "      <th>2</th>\n",
       "      <td>0.366142</td>\n",
       "      <td>0.282051</td>\n",
       "      <td>0.846154</td>\n",
       "      <td>0.508077</td>\n",
       "      <td>0.875</td>\n",
       "      <td>0.405032</td>\n",
       "      <td>0.616931</td>\n",
       "      <td>0.340020</td>\n",
       "      <td>0.181818</td>\n",
       "      <td>0.322581</td>\n",
       "      <td>0.475610</td>\n",
       "      <td>0.0</td>\n",
       "      <td>0.000000</td>\n",
       "      <td>0.313830</td>\n",
       "      <td>0.856301</td>\n",
       "      <td>0.815482</td>\n",
       "    </tr>\n",
       "    <tr>\n",
       "      <th>3</th>\n",
       "      <td>0.333722</td>\n",
       "      <td>0.153846</td>\n",
       "      <td>0.153846</td>\n",
       "      <td>0.183176</td>\n",
       "      <td>0.920</td>\n",
       "      <td>0.591563</td>\n",
       "      <td>0.327619</td>\n",
       "      <td>0.459538</td>\n",
       "      <td>0.301136</td>\n",
       "      <td>0.193548</td>\n",
       "      <td>0.402439</td>\n",
       "      <td>0.3</td>\n",
       "      <td>0.433333</td>\n",
       "      <td>0.250000</td>\n",
       "      <td>0.424444</td>\n",
       "      <td>0.624962</td>\n",
       "    </tr>\n",
       "    <tr>\n",
       "      <th>4</th>\n",
       "      <td>0.421860</td>\n",
       "      <td>0.333333</td>\n",
       "      <td>0.153846</td>\n",
       "      <td>0.527278</td>\n",
       "      <td>0.910</td>\n",
       "      <td>0.585131</td>\n",
       "      <td>0.556825</td>\n",
       "      <td>0.788167</td>\n",
       "      <td>0.647727</td>\n",
       "      <td>0.290323</td>\n",
       "      <td>0.402439</td>\n",
       "      <td>0.2</td>\n",
       "      <td>0.233333</td>\n",
       "      <td>0.367021</td>\n",
       "      <td>0.618514</td>\n",
       "      <td>0.788179</td>\n",
       "    </tr>\n",
       "  </tbody>\n",
       "</table>\n",
       "</div>"
      ],
      "text/plain": [
       "   Minutos jogados:     Golos  Assistências  Duelos ganhos, %  Altura  \\\n",
       "0          0.844302  0.487179      0.615385          0.591588   0.870   \n",
       "1          0.365948  0.256410      0.307692          0.275831   0.875   \n",
       "2          0.366142  0.282051      0.846154          0.508077   0.875   \n",
       "3          0.333722  0.153846      0.153846          0.183176   0.920   \n",
       "4          0.421860  0.333333      0.153846          0.527278   0.910   \n",
       "\n",
       "   Duelos defensivos ganhos, %  Duelos ofensivos ganhos, %  \\\n",
       "0                     0.483731                    0.744974   \n",
       "1                     0.548241                    0.425820   \n",
       "2                     0.405032                    0.616931   \n",
       "3                     0.591563                    0.327619   \n",
       "4                     0.585131                    0.556825   \n",
       "\n",
       "   Duelos aéreos ganhos, %  Interseções/90  Golos sem ser por penálti  \\\n",
       "0                 0.539102        0.463068                   0.516129   \n",
       "1                 0.526522        0.593750                   0.258065   \n",
       "2                 0.340020        0.181818                   0.322581   \n",
       "3                 0.459538        0.301136                   0.193548   \n",
       "4                 0.788167        0.647727                   0.290323   \n",
       "\n",
       "   Golos esperados/90  Golos de cabeça  Golos de cabeça/90    Remate  \\\n",
       "0            0.573171              0.0            0.000000  0.829787   \n",
       "1            0.719512              0.2            0.266667  0.351064   \n",
       "2            0.475610              0.0            0.000000  0.313830   \n",
       "3            0.402439              0.3            0.433333  0.250000   \n",
       "4            0.402439              0.2            0.233333  0.367021   \n",
       "\n",
       "   Passes para a frente certos, %  Passes para trás certos, %  \n",
       "0                        0.993918                    0.795380  \n",
       "1                        0.777609                    0.644464  \n",
       "2                        0.856301                    0.815482  \n",
       "3                        0.424444                    0.624962  \n",
       "4                        0.618514                    0.788179  "
      ]
     },
     "execution_count": 6,
     "metadata": {},
     "output_type": "execute_result"
    }
   ],
   "source": [
    "X_at_1.head()"
   ]
  },
  {
   "cell_type": "code",
   "execution_count": 7,
   "id": "f9ac92c4",
   "metadata": {},
   "outputs": [],
   "source": [
    "kmeans = KMeans(n_clusters=3, algorithm='elkan')\n",
    "kmeans.fit(X_at_1)\n",
    "\n",
    "kmeans.cluster_centers_\n",
    "\n",
    "pred = kmeans.fit_predict(X_at_1)"
   ]
  },
  {
   "cell_type": "code",
   "execution_count": 8,
   "id": "96db770c",
   "metadata": {},
   "outputs": [
    {
     "data": {
      "image/png": "[encoded data removed]",
      "text/plain": [
       "<Figure size 1200x500 with 2 Axes>"
      ]
     },
     "metadata": {},
     "output_type": "display_data"
    }
   ],
   "source": [
    "plt.figure(figsize=(12,5))\n",
    "plt.subplot(1,2,1)\n",
    "plt.scatter(X_at_1['Golos'],X_at_1['Assistências'],c = pred)\n",
    "plt.grid(True)\n",
    "for center in kmeans.cluster_centers_:\n",
    "    plt.scatter(center[1],center[2],marker = '^',c = 'red')\n",
    "\n",
    "     \n",
    "plt.subplot(1,2,2)   \n",
    "plt.scatter(X_at_1['Duelos ofensivos ganhos, %'],X_at_1['Duelos defensivos ganhos, %'],c = pred)\n",
    "plt.grid(True)\n",
    "for center in kmeans.cluster_centers_:\n",
    "    plt.scatter(center[len(center)-1],center[5],marker = '^',c = 'red')\n",
    "plt.show()"
   ]
  },
  {
   "cell_type": "code",
   "execution_count": 9,
   "id": "ff1f799c",
   "metadata": {},
   "outputs": [
    {
     "name": "stderr",
     "output_type": "stream",
     "text": [
      "C:\\Users\\ismae\\anaconda3\\lib\\site-packages\\sklearn\\cluster\\_kmeans.py:1036: UserWarning: KMeans is known to have a memory leak on Windows with MKL, when there are less chunks than available threads. You can avoid it by setting the environment variable OMP_NUM_THREADS=2.\n",
      "  warnings.warn(\n"
     ]
    },
    {
     "data": {
      "image/png": "[encoded data removed]",
      "text/plain": [
       "<Figure size 640x480 with 1 Axes>"
      ]
     },
     "metadata": {},
     "output_type": "display_data"
    }
   ],
   "source": [
    "sse = [] #SUM OF SQUARED ERROR\n",
    "for k in range(1,11):\n",
    "    km = KMeans(n_clusters=k, random_state=2)\n",
    "    km.fit(X_at_1)\n",
    "    sse.append(km.inertia_)\n",
    "    \n",
    "sns.set_style(\"whitegrid\")\n",
    "g=sns.lineplot(x=range(1,11), y=sse)\n",
    " \n",
    "g.set(xlabel =\"Number of cluster (k)\", \n",
    "      ylabel = \"Sum Squared Error\", \n",
    "      title ='Elbow Method')\n",
    " \n",
    "plt.show()"
   ]
  },
  {
   "cell_type": "code",
   "execution_count": 10,
   "id": "80c0a662",
   "metadata": {
    "scrolled": true
   },
   "outputs": [],
   "source": [
    "df_atack_1['cluster'] = pred"
   ]
  },
  {
   "cell_type": "markdown",
   "id": "6de6c09a",
   "metadata": {},
   "source": [
    "#### Filtrando as Classes desejadas"
   ]
  },
  {
   "cell_type": "code",
   "execution_count": 11,
   "id": "e10318b9",
   "metadata": {
    "scrolled": true
   },
   "outputs": [
    {
     "data": {
      "text/html": [
       "<div>\n",
       "<style scoped>\n",
       "    .dataframe tbody tr th:only-of-type {\n",
       "        vertical-align: middle;\n",
       "    }\n",
       "\n",
       "    .dataframe tbody tr th {\n",
       "        vertical-align: top;\n",
       "    }\n",
       "\n",
       "    .dataframe thead th {\n",
       "        text-align: right;\n",
       "    }\n",
       "</style>\n",
       "<table border=\"1\" class=\"dataframe\">\n",
       "  <thead>\n",
       "    <tr style=\"text-align: right;\">\n",
       "      <th></th>\n",
       "      <th>Jogador</th>\n",
       "      <th>Equipe</th>\n",
       "      <th>Minutos jogados:</th>\n",
       "      <th>Golos</th>\n",
       "      <th>Assistências</th>\n",
       "      <th>Duelos ganhos, %</th>\n",
       "      <th>Altura</th>\n",
       "      <th>Duelos defensivos ganhos, %</th>\n",
       "      <th>Duelos aéreos ganhos, %</th>\n",
       "      <th>Interseções/90</th>\n",
       "      <th>...</th>\n",
       "      <th>Passes para trás certos, %</th>\n",
       "      <th>Passes laterais certos, %</th>\n",
       "      <th>Passes curtos / médios precisos, %</th>\n",
       "      <th>Passes longos certos, %</th>\n",
       "      <th>Passes inteligentes certos, %</th>\n",
       "      <th>Passes certos para terço final, %</th>\n",
       "      <th>Passes precisos para a área de penálti, %</th>\n",
       "      <th>Passes em profundidade certos, %</th>\n",
       "      <th>Passes progressivos certos, %</th>\n",
       "      <th>cluster</th>\n",
       "    </tr>\n",
       "  </thead>\n",
       "  <tbody>\n",
       "    <tr>\n",
       "      <th>2</th>\n",
       "      <td>Neymar</td>\n",
       "      <td>Al Hilal</td>\n",
       "      <td>2292</td>\n",
       "      <td>11</td>\n",
       "      <td>11</td>\n",
       "      <td>42.60</td>\n",
       "      <td>175</td>\n",
       "      <td>47.12</td>\n",
       "      <td>20.00</td>\n",
       "      <td>0.98</td>\n",
       "      <td>...</td>\n",
       "      <td>93.85</td>\n",
       "      <td>89.32</td>\n",
       "      <td>85.91</td>\n",
       "      <td>58.24</td>\n",
       "      <td>38.81</td>\n",
       "      <td>79.76</td>\n",
       "      <td>63.03</td>\n",
       "      <td>32.95</td>\n",
       "      <td>86.54</td>\n",
       "      <td>0</td>\n",
       "    </tr>\n",
       "    <tr>\n",
       "      <th>4</th>\n",
       "      <td>João Pedro</td>\n",
       "      <td>Brighton</td>\n",
       "      <td>2579</td>\n",
       "      <td>13</td>\n",
       "      <td>2</td>\n",
       "      <td>43.23</td>\n",
       "      <td>182</td>\n",
       "      <td>56.64</td>\n",
       "      <td>46.36</td>\n",
       "      <td>2.62</td>\n",
       "      <td>...</td>\n",
       "      <td>92.94</td>\n",
       "      <td>77.74</td>\n",
       "      <td>81.63</td>\n",
       "      <td>53.85</td>\n",
       "      <td>34.15</td>\n",
       "      <td>63.08</td>\n",
       "      <td>52.43</td>\n",
       "      <td>26.92</td>\n",
       "      <td>80.15</td>\n",
       "      <td>0</td>\n",
       "    </tr>\n",
       "    <tr>\n",
       "      <th>5</th>\n",
       "      <td>Matheus Cunha</td>\n",
       "      <td>Wolverhampton Wanderers</td>\n",
       "      <td>2158</td>\n",
       "      <td>3</td>\n",
       "      <td>3</td>\n",
       "      <td>37.64</td>\n",
       "      <td>183</td>\n",
       "      <td>49.56</td>\n",
       "      <td>19.61</td>\n",
       "      <td>2.88</td>\n",
       "      <td>...</td>\n",
       "      <td>91.30</td>\n",
       "      <td>77.52</td>\n",
       "      <td>81.52</td>\n",
       "      <td>40.00</td>\n",
       "      <td>18.18</td>\n",
       "      <td>78.38</td>\n",
       "      <td>59.26</td>\n",
       "      <td>25.00</td>\n",
       "      <td>66.00</td>\n",
       "      <td>0</td>\n",
       "    </tr>\n",
       "    <tr>\n",
       "      <th>13</th>\n",
       "      <td>Talles Magno</td>\n",
       "      <td>New York City</td>\n",
       "      <td>2179</td>\n",
       "      <td>6</td>\n",
       "      <td>3</td>\n",
       "      <td>39.76</td>\n",
       "      <td>185</td>\n",
       "      <td>64.37</td>\n",
       "      <td>28.38</td>\n",
       "      <td>1.49</td>\n",
       "      <td>...</td>\n",
       "      <td>89.44</td>\n",
       "      <td>89.00</td>\n",
       "      <td>85.64</td>\n",
       "      <td>68.75</td>\n",
       "      <td>50.00</td>\n",
       "      <td>80.36</td>\n",
       "      <td>78.05</td>\n",
       "      <td>52.38</td>\n",
       "      <td>80.82</td>\n",
       "      <td>0</td>\n",
       "    </tr>\n",
       "    <tr>\n",
       "      <th>14</th>\n",
       "      <td>Felipe Anderson</td>\n",
       "      <td>Lazio</td>\n",
       "      <td>3851</td>\n",
       "      <td>10</td>\n",
       "      <td>7</td>\n",
       "      <td>44.60</td>\n",
       "      <td>175</td>\n",
       "      <td>61.15</td>\n",
       "      <td>27.94</td>\n",
       "      <td>3.18</td>\n",
       "      <td>...</td>\n",
       "      <td>92.64</td>\n",
       "      <td>80.09</td>\n",
       "      <td>83.05</td>\n",
       "      <td>59.72</td>\n",
       "      <td>42.86</td>\n",
       "      <td>72.64</td>\n",
       "      <td>48.87</td>\n",
       "      <td>40.00</td>\n",
       "      <td>74.23</td>\n",
       "      <td>0</td>\n",
       "    </tr>\n",
       "  </tbody>\n",
       "</table>\n",
       "<p>5 rows × 35 columns</p>\n",
       "</div>"
      ],
      "text/plain": [
       "            Jogador                   Equipe  Minutos jogados:  Golos  \\\n",
       "2            Neymar                 Al Hilal              2292     11   \n",
       "4        João Pedro                 Brighton              2579     13   \n",
       "5     Matheus Cunha  Wolverhampton Wanderers              2158      3   \n",
       "13     Talles Magno            New York City              2179      6   \n",
       "14  Felipe Anderson                    Lazio              3851     10   \n",
       "\n",
       "    Assistências  Duelos ganhos, %  Altura  Duelos defensivos ganhos, %  \\\n",
       "2             11             42.60     175                        47.12   \n",
       "4              2             43.23     182                        56.64   \n",
       "5              3             37.64     183                        49.56   \n",
       "13             3             39.76     185                        64.37   \n",
       "14             7             44.60     175                        61.15   \n",
       "\n",
       "    Duelos aéreos ganhos, %  Interseções/90  ...  Passes para trás certos, %  \\\n",
       "2                     20.00            0.98  ...                       93.85   \n",
       "4                     46.36            2.62  ...                       92.94   \n",
       "5                     19.61            2.88  ...                       91.30   \n",
       "13                    28.38            1.49  ...                       89.44   \n",
       "14                    27.94            3.18  ...                       92.64   \n",
       "\n",
       "    Passes laterais certos, %  Passes curtos / médios precisos, %  \\\n",
       "2                       89.32                               85.91   \n",
       "4                       77.74                               81.63   \n",
       "5                       77.52                               81.52   \n",
       "13                      89.00                               85.64   \n",
       "14                      80.09                               83.05   \n",
       "\n",
       "    Passes longos certos, %  Passes inteligentes certos, %  \\\n",
       "2                     58.24                          38.81   \n",
       "4                     53.85                          34.15   \n",
       "5                     40.00                          18.18   \n",
       "13                    68.75                          50.00   \n",
       "14                    59.72                          42.86   \n",
       "\n",
       "    Passes certos para terço final, %  \\\n",
       "2                               79.76   \n",
       "4                               63.08   \n",
       "5                               78.38   \n",
       "13                              80.36   \n",
       "14                              72.64   \n",
       "\n",
       "    Passes precisos para a área de penálti, %  \\\n",
       "2                                       63.03   \n",
       "4                                       52.43   \n",
       "5                                       59.26   \n",
       "13                                      78.05   \n",
       "14                                      48.87   \n",
       "\n",
       "    Passes em profundidade certos, %  Passes progressivos certos, %  cluster  \n",
       "2                              32.95                          86.54        0  \n",
       "4                              26.92                          80.15        0  \n",
       "5                              25.00                          66.00        0  \n",
       "13                             52.38                          80.82        0  \n",
       "14                             40.00                          74.23        0  \n",
       "\n",
       "[5 rows x 35 columns]"
      ]
     },
     "execution_count": 11,
     "metadata": {},
     "output_type": "execute_result"
    }
   ],
   "source": [
    "df_atack_1[df_atack_1['cluster'] == 0].head()"
   ]
  },
  {
   "cell_type": "markdown",
   "id": "b5109973",
   "metadata": {},
   "source": [
    "### Menos Valorizados"
   ]
  },
  {
   "cell_type": "code",
   "execution_count": 12,
   "id": "c0584946",
   "metadata": {
    "scrolled": true
   },
   "outputs": [
    {
     "data": {
      "text/html": [
       "<div>\n",
       "<style scoped>\n",
       "    .dataframe tbody tr th:only-of-type {\n",
       "        vertical-align: middle;\n",
       "    }\n",
       "\n",
       "    .dataframe tbody tr th {\n",
       "        vertical-align: top;\n",
       "    }\n",
       "\n",
       "    .dataframe thead th {\n",
       "        text-align: right;\n",
       "    }\n",
       "</style>\n",
       "<table border=\"1\" class=\"dataframe\">\n",
       "  <thead>\n",
       "    <tr style=\"text-align: right;\">\n",
       "      <th></th>\n",
       "      <th>Jogador</th>\n",
       "      <th>Equipa</th>\n",
       "      <th>Posição</th>\n",
       "      <th>Idade</th>\n",
       "      <th>Valor de mercado</th>\n",
       "      <th>Contrato termina</th>\n",
       "      <th>Partidas jogadas</th>\n",
       "      <th>Minutos jogados:</th>\n",
       "      <th>Golos</th>\n",
       "      <th>Golos esperados</th>\n",
       "      <th>Naturalidade</th>\n",
       "      <th>País de nacionalidade</th>\n",
       "      <th>Pé</th>\n",
       "      <th>Altura</th>\n",
       "      <th>Peso</th>\n",
       "      <th>Emprestado</th>\n",
       "    </tr>\n",
       "  </thead>\n",
       "  <tbody>\n",
       "    <tr>\n",
       "      <th>0</th>\n",
       "      <td>Robinho</td>\n",
       "      <td>CSA</td>\n",
       "      <td>RW, LW, CF</td>\n",
       "      <td>24</td>\n",
       "      <td>300000</td>\n",
       "      <td>2023-12-31</td>\n",
       "      <td>24</td>\n",
       "      <td>1260</td>\n",
       "      <td>2</td>\n",
       "      <td>2.10</td>\n",
       "      <td>Brazil</td>\n",
       "      <td>Brazil</td>\n",
       "      <td>direito</td>\n",
       "      <td>176</td>\n",
       "      <td>75</td>\n",
       "      <td>sim</td>\n",
       "    </tr>\n",
       "    <tr>\n",
       "      <th>1</th>\n",
       "      <td>Kawê</td>\n",
       "      <td>Red Bull Bragantino</td>\n",
       "      <td>LCMF, AMF, RWF</td>\n",
       "      <td>21</td>\n",
       "      <td>300000</td>\n",
       "      <td>2027-06-30</td>\n",
       "      <td>4</td>\n",
       "      <td>115</td>\n",
       "      <td>0</td>\n",
       "      <td>0.12</td>\n",
       "      <td>Brazil</td>\n",
       "      <td>Brazil</td>\n",
       "      <td>direito</td>\n",
       "      <td>178</td>\n",
       "      <td>66</td>\n",
       "      <td>sim</td>\n",
       "    </tr>\n",
       "    <tr>\n",
       "      <th>2</th>\n",
       "      <td>Júnior Todinho</td>\n",
       "      <td>CSA</td>\n",
       "      <td>CF, RW</td>\n",
       "      <td>29</td>\n",
       "      <td>300000</td>\n",
       "      <td>2024-04-10</td>\n",
       "      <td>28</td>\n",
       "      <td>1918</td>\n",
       "      <td>6</td>\n",
       "      <td>7.06</td>\n",
       "      <td>Brazil</td>\n",
       "      <td>Brazil</td>\n",
       "      <td>esquerdo</td>\n",
       "      <td>182</td>\n",
       "      <td>72</td>\n",
       "      <td>sim</td>\n",
       "    </tr>\n",
       "    <tr>\n",
       "      <th>3</th>\n",
       "      <td>João Veras</td>\n",
       "      <td>Botafogo SP</td>\n",
       "      <td>CF, RAMF</td>\n",
       "      <td>22</td>\n",
       "      <td>300000</td>\n",
       "      <td>2023-11-30</td>\n",
       "      <td>7</td>\n",
       "      <td>135</td>\n",
       "      <td>1</td>\n",
       "      <td>0.35</td>\n",
       "      <td>Brazil</td>\n",
       "      <td>Brazil</td>\n",
       "      <td>direito</td>\n",
       "      <td>182</td>\n",
       "      <td>73</td>\n",
       "      <td>sim</td>\n",
       "    </tr>\n",
       "    <tr>\n",
       "      <th>4</th>\n",
       "      <td>Salatiel</td>\n",
       "      <td>Botafogo SP</td>\n",
       "      <td>CF</td>\n",
       "      <td>31</td>\n",
       "      <td>300000</td>\n",
       "      <td>2023-11-30</td>\n",
       "      <td>33</td>\n",
       "      <td>2698</td>\n",
       "      <td>8</td>\n",
       "      <td>7.97</td>\n",
       "      <td>Brazil</td>\n",
       "      <td>Brazil</td>\n",
       "      <td>direito</td>\n",
       "      <td>187</td>\n",
       "      <td>76</td>\n",
       "      <td>sim</td>\n",
       "    </tr>\n",
       "  </tbody>\n",
       "</table>\n",
       "</div>"
      ],
      "text/plain": [
       "          Jogador               Equipa         Posição  Idade  \\\n",
       "0         Robinho                  CSA      RW, LW, CF     24   \n",
       "1            Kawê  Red Bull Bragantino  LCMF, AMF, RWF     21   \n",
       "2  Júnior Todinho                  CSA          CF, RW     29   \n",
       "3      João Veras          Botafogo SP        CF, RAMF     22   \n",
       "4        Salatiel          Botafogo SP              CF     31   \n",
       "\n",
       "   Valor de mercado Contrato termina  Partidas jogadas  Minutos jogados:  \\\n",
       "0            300000       2023-12-31                24              1260   \n",
       "1            300000       2027-06-30                 4               115   \n",
       "2            300000       2024-04-10                28              1918   \n",
       "3            300000       2023-11-30                 7               135   \n",
       "4            300000       2023-11-30                33              2698   \n",
       "\n",
       "   Golos  Golos esperados Naturalidade País de nacionalidade        Pé  \\\n",
       "0      2             2.10       Brazil                Brazil   direito   \n",
       "1      0             0.12       Brazil                Brazil   direito   \n",
       "2      6             7.06       Brazil                Brazil  esquerdo   \n",
       "3      1             0.35       Brazil                Brazil   direito   \n",
       "4      8             7.97       Brazil                Brazil   direito   \n",
       "\n",
       "   Altura  Peso Emprestado  \n",
       "0     176    75        sim  \n",
       "1     178    66        sim  \n",
       "2     182    72        sim  \n",
       "3     182    73        sim  \n",
       "4     187    76        sim  "
      ]
     },
     "execution_count": 12,
     "metadata": {},
     "output_type": "execute_result"
    }
   ],
   "source": [
    "df_atack_2.head()"
   ]
  },
  {
   "cell_type": "markdown",
   "id": "1d9e7130",
   "metadata": {},
   "source": [
    "#### Selecionando as Features"
   ]
  },
  {
   "cell_type": "code",
   "execution_count": 13,
   "id": "42e31ec0",
   "metadata": {
    "scrolled": false
   },
   "outputs": [
    {
     "data": {
      "text/plain": [
       "Index(['Jogador', 'Equipa', 'Posição', 'Idade', 'Valor de mercado',\n",
       "       'Contrato termina', 'Partidas jogadas', 'Minutos jogados:', 'Golos',\n",
       "       'Golos esperados', 'Naturalidade', 'País de nacionalidade', 'Pé',\n",
       "       'Altura', 'Peso', 'Emprestado'],\n",
       "      dtype='object')"
      ]
     },
     "execution_count": 13,
     "metadata": {},
     "output_type": "execute_result"
    }
   ],
   "source": [
    "df_atack_2.columns"
   ]
  },
  {
   "cell_type": "code",
   "execution_count": 14,
   "id": "0d087681",
   "metadata": {},
   "outputs": [],
   "source": [
    "X = df_atack_2[['Idade',\n",
    "                'Partidas jogadas', \n",
    "                'Minutos jogados:', \n",
    "                'Golos',\n",
    "                'Golos esperados',\n",
    "                'Pé',\n",
    "                'Altura', \n",
    "                'Peso'\n",
    "              ]].dropna()"
   ]
  },
  {
   "cell_type": "code",
   "execution_count": 15,
   "id": "778cb569",
   "metadata": {},
   "outputs": [],
   "source": [
    "X = pd.get_dummies(X)\n",
    "X = X.div(X.sum(axis=1), axis='rows')"
   ]
  },
  {
   "cell_type": "code",
   "execution_count": 16,
   "id": "f3d2b948",
   "metadata": {},
   "outputs": [],
   "source": [
    "#for i in X.columns:\n",
    "#  X[i] = MinMaxScaler().fit_transform(np.array(X[i]).reshape(-1,1))"
   ]
  },
  {
   "cell_type": "code",
   "execution_count": 17,
   "id": "2dd1c7ee",
   "metadata": {
    "scrolled": false
   },
   "outputs": [
    {
     "data": {
      "text/html": [
       "<div>\n",
       "<style scoped>\n",
       "    .dataframe tbody tr th:only-of-type {\n",
       "        vertical-align: middle;\n",
       "    }\n",
       "\n",
       "    .dataframe tbody tr th {\n",
       "        vertical-align: top;\n",
       "    }\n",
       "\n",
       "    .dataframe thead th {\n",
       "        text-align: right;\n",
       "    }\n",
       "</style>\n",
       "<table border=\"1\" class=\"dataframe\">\n",
       "  <thead>\n",
       "    <tr style=\"text-align: right;\">\n",
       "      <th></th>\n",
       "      <th>Idade</th>\n",
       "      <th>Partidas jogadas</th>\n",
       "      <th>Minutos jogados:</th>\n",
       "      <th>Golos</th>\n",
       "      <th>Golos esperados</th>\n",
       "      <th>Altura</th>\n",
       "      <th>Peso</th>\n",
       "      <th>Pé_ambos</th>\n",
       "      <th>Pé_direito</th>\n",
       "      <th>Pé_esquerdo</th>\n",
       "    </tr>\n",
       "  </thead>\n",
       "  <tbody>\n",
       "    <tr>\n",
       "      <th>0</th>\n",
       "      <td>0.015344</td>\n",
       "      <td>0.015344</td>\n",
       "      <td>0.805575</td>\n",
       "      <td>0.001279</td>\n",
       "      <td>0.001343</td>\n",
       "      <td>0.112525</td>\n",
       "      <td>0.047951</td>\n",
       "      <td>0.0</td>\n",
       "      <td>0.000639</td>\n",
       "      <td>0.000000</td>\n",
       "    </tr>\n",
       "    <tr>\n",
       "      <th>1</th>\n",
       "      <td>0.054528</td>\n",
       "      <td>0.010386</td>\n",
       "      <td>0.298608</td>\n",
       "      <td>0.000000</td>\n",
       "      <td>0.000312</td>\n",
       "      <td>0.462194</td>\n",
       "      <td>0.171375</td>\n",
       "      <td>0.0</td>\n",
       "      <td>0.002597</td>\n",
       "      <td>0.000000</td>\n",
       "    </tr>\n",
       "    <tr>\n",
       "      <th>2</th>\n",
       "      <td>0.012929</td>\n",
       "      <td>0.012483</td>\n",
       "      <td>0.855082</td>\n",
       "      <td>0.002675</td>\n",
       "      <td>0.003147</td>\n",
       "      <td>0.081139</td>\n",
       "      <td>0.032099</td>\n",
       "      <td>0.0</td>\n",
       "      <td>0.000000</td>\n",
       "      <td>0.000446</td>\n",
       "    </tr>\n",
       "    <tr>\n",
       "      <th>3</th>\n",
       "      <td>0.052213</td>\n",
       "      <td>0.016613</td>\n",
       "      <td>0.320399</td>\n",
       "      <td>0.002373</td>\n",
       "      <td>0.000831</td>\n",
       "      <td>0.431945</td>\n",
       "      <td>0.173253</td>\n",
       "      <td>0.0</td>\n",
       "      <td>0.002373</td>\n",
       "      <td>0.000000</td>\n",
       "    </tr>\n",
       "    <tr>\n",
       "      <th>4</th>\n",
       "      <td>0.010191</td>\n",
       "      <td>0.010848</td>\n",
       "      <td>0.886925</td>\n",
       "      <td>0.002630</td>\n",
       "      <td>0.002620</td>\n",
       "      <td>0.061473</td>\n",
       "      <td>0.024984</td>\n",
       "      <td>0.0</td>\n",
       "      <td>0.000329</td>\n",
       "      <td>0.000000</td>\n",
       "    </tr>\n",
       "  </tbody>\n",
       "</table>\n",
       "</div>"
      ],
      "text/plain": [
       "      Idade  Partidas jogadas  Minutos jogados:     Golos  Golos esperados  \\\n",
       "0  0.015344          0.015344          0.805575  0.001279         0.001343   \n",
       "1  0.054528          0.010386          0.298608  0.000000         0.000312   \n",
       "2  0.012929          0.012483          0.855082  0.002675         0.003147   \n",
       "3  0.052213          0.016613          0.320399  0.002373         0.000831   \n",
       "4  0.010191          0.010848          0.886925  0.002630         0.002620   \n",
       "\n",
       "     Altura      Peso  Pé_ambos  Pé_direito  Pé_esquerdo  \n",
       "0  0.112525  0.047951       0.0    0.000639     0.000000  \n",
       "1  0.462194  0.171375       0.0    0.002597     0.000000  \n",
       "2  0.081139  0.032099       0.0    0.000000     0.000446  \n",
       "3  0.431945  0.173253       0.0    0.002373     0.000000  \n",
       "4  0.061473  0.024984       0.0    0.000329     0.000000  "
      ]
     },
     "execution_count": 17,
     "metadata": {},
     "output_type": "execute_result"
    }
   ],
   "source": [
    "X.head()"
   ]
  },
  {
   "cell_type": "code",
   "execution_count": 18,
   "id": "7a9a8cbe",
   "metadata": {},
   "outputs": [],
   "source": [
    "kmeans = KMeans(n_clusters=3, algorithm='elkan')\n",
    "kmeans.fit(X)\n",
    "\n",
    "kmeans.cluster_centers_\n",
    "\n",
    "pred = kmeans.fit_predict(X)"
   ]
  },
  {
   "cell_type": "code",
   "execution_count": 19,
   "id": "2b5731ec",
   "metadata": {},
   "outputs": [
    {
     "name": "stderr",
     "output_type": "stream",
     "text": [
      "C:\\Users\\ismae\\anaconda3\\lib\\site-packages\\sklearn\\cluster\\_kmeans.py:1036: UserWarning: KMeans is known to have a memory leak on Windows with MKL, when there are less chunks than available threads. You can avoid it by setting the environment variable OMP_NUM_THREADS=1.\n",
      "  warnings.warn(\n"
     ]
    },
    {
     "data": {
      "image/png": "[encoded data removed]",
      "text/plain": [
       "<Figure size 640x480 with 1 Axes>"
      ]
     },
     "metadata": {},
     "output_type": "display_data"
    }
   ],
   "source": [
    "sse = [] #SUM OF SQUARED ERROR\n",
    "for k in range(1,11):\n",
    "    km = KMeans(n_clusters=k, random_state=2)\n",
    "    km.fit(X)\n",
    "    sse.append(km.inertia_)\n",
    "    \n",
    "sns.set_style(\"whitegrid\")\n",
    "g=sns.lineplot(x=range(1,11), y=sse)\n",
    " \n",
    "g.set(xlabel =\"Number of cluster (k)\", \n",
    "      ylabel = \"Sum Squared Error\", \n",
    "      title ='Elbow Method')\n",
    " \n",
    "plt.show()"
   ]
  },
  {
   "cell_type": "code",
   "execution_count": 20,
   "id": "976d0e7b",
   "metadata": {
    "scrolled": true
   },
   "outputs": [],
   "source": [
    "df_atack_2['cluster'] = pred"
   ]
  },
  {
   "cell_type": "markdown",
   "id": "ea81ee36",
   "metadata": {},
   "source": [
    "#### Filtrando as Classes desejadas"
   ]
  },
  {
   "cell_type": "code",
   "execution_count": 21,
   "id": "5f221a80",
   "metadata": {
    "scrolled": true
   },
   "outputs": [
    {
     "data": {
      "text/html": [
       "<div>\n",
       "<style scoped>\n",
       "    .dataframe tbody tr th:only-of-type {\n",
       "        vertical-align: middle;\n",
       "    }\n",
       "\n",
       "    .dataframe tbody tr th {\n",
       "        vertical-align: top;\n",
       "    }\n",
       "\n",
       "    .dataframe thead th {\n",
       "        text-align: right;\n",
       "    }\n",
       "</style>\n",
       "<table border=\"1\" class=\"dataframe\">\n",
       "  <thead>\n",
       "    <tr style=\"text-align: right;\">\n",
       "      <th></th>\n",
       "      <th>Jogador</th>\n",
       "      <th>Equipa</th>\n",
       "      <th>Posição</th>\n",
       "      <th>Idade</th>\n",
       "      <th>Valor de mercado</th>\n",
       "      <th>Contrato termina</th>\n",
       "      <th>Partidas jogadas</th>\n",
       "      <th>Minutos jogados:</th>\n",
       "      <th>Golos</th>\n",
       "      <th>Golos esperados</th>\n",
       "      <th>Naturalidade</th>\n",
       "      <th>País de nacionalidade</th>\n",
       "      <th>Pé</th>\n",
       "      <th>Altura</th>\n",
       "      <th>Peso</th>\n",
       "      <th>Emprestado</th>\n",
       "      <th>cluster</th>\n",
       "    </tr>\n",
       "  </thead>\n",
       "  <tbody>\n",
       "    <tr>\n",
       "      <th>0</th>\n",
       "      <td>Robinho</td>\n",
       "      <td>CSA</td>\n",
       "      <td>RW, LW, CF</td>\n",
       "      <td>24</td>\n",
       "      <td>300000</td>\n",
       "      <td>2023-12-31</td>\n",
       "      <td>24</td>\n",
       "      <td>1260</td>\n",
       "      <td>2</td>\n",
       "      <td>2.10</td>\n",
       "      <td>Brazil</td>\n",
       "      <td>Brazil</td>\n",
       "      <td>direito</td>\n",
       "      <td>176</td>\n",
       "      <td>75</td>\n",
       "      <td>sim</td>\n",
       "      <td>0</td>\n",
       "    </tr>\n",
       "    <tr>\n",
       "      <th>2</th>\n",
       "      <td>Júnior Todinho</td>\n",
       "      <td>CSA</td>\n",
       "      <td>CF, RW</td>\n",
       "      <td>29</td>\n",
       "      <td>300000</td>\n",
       "      <td>2024-04-10</td>\n",
       "      <td>28</td>\n",
       "      <td>1918</td>\n",
       "      <td>6</td>\n",
       "      <td>7.06</td>\n",
       "      <td>Brazil</td>\n",
       "      <td>Brazil</td>\n",
       "      <td>esquerdo</td>\n",
       "      <td>182</td>\n",
       "      <td>72</td>\n",
       "      <td>sim</td>\n",
       "      <td>0</td>\n",
       "    </tr>\n",
       "    <tr>\n",
       "      <th>4</th>\n",
       "      <td>Salatiel</td>\n",
       "      <td>Botafogo SP</td>\n",
       "      <td>CF</td>\n",
       "      <td>31</td>\n",
       "      <td>300000</td>\n",
       "      <td>2023-11-30</td>\n",
       "      <td>33</td>\n",
       "      <td>2698</td>\n",
       "      <td>8</td>\n",
       "      <td>7.97</td>\n",
       "      <td>Brazil</td>\n",
       "      <td>Brazil</td>\n",
       "      <td>direito</td>\n",
       "      <td>187</td>\n",
       "      <td>76</td>\n",
       "      <td>sim</td>\n",
       "      <td>0</td>\n",
       "    </tr>\n",
       "    <tr>\n",
       "      <th>5</th>\n",
       "      <td>Gabriel Bispo</td>\n",
       "      <td>KuPS</td>\n",
       "      <td>CF, AMF</td>\n",
       "      <td>26</td>\n",
       "      <td>300000</td>\n",
       "      <td>2024-12-31</td>\n",
       "      <td>33</td>\n",
       "      <td>2019</td>\n",
       "      <td>3</td>\n",
       "      <td>6.61</td>\n",
       "      <td>Brazil</td>\n",
       "      <td>Brazil</td>\n",
       "      <td>direito</td>\n",
       "      <td>177</td>\n",
       "      <td>77</td>\n",
       "      <td>sim</td>\n",
       "      <td>0</td>\n",
       "    </tr>\n",
       "    <tr>\n",
       "      <th>6</th>\n",
       "      <td>Bruno Mezenga</td>\n",
       "      <td>Santos</td>\n",
       "      <td>CF</td>\n",
       "      <td>35</td>\n",
       "      <td>300000</td>\n",
       "      <td>2024-04-10</td>\n",
       "      <td>25</td>\n",
       "      <td>1432</td>\n",
       "      <td>8</td>\n",
       "      <td>3.71</td>\n",
       "      <td>Brazil</td>\n",
       "      <td>Brazil</td>\n",
       "      <td>esquerdo</td>\n",
       "      <td>185</td>\n",
       "      <td>78</td>\n",
       "      <td>sim</td>\n",
       "      <td>0</td>\n",
       "    </tr>\n",
       "  </tbody>\n",
       "</table>\n",
       "</div>"
      ],
      "text/plain": [
       "          Jogador       Equipa     Posição  Idade  Valor de mercado  \\\n",
       "0         Robinho          CSA  RW, LW, CF     24            300000   \n",
       "2  Júnior Todinho          CSA      CF, RW     29            300000   \n",
       "4        Salatiel  Botafogo SP          CF     31            300000   \n",
       "5   Gabriel Bispo         KuPS     CF, AMF     26            300000   \n",
       "6   Bruno Mezenga       Santos          CF     35            300000   \n",
       "\n",
       "  Contrato termina  Partidas jogadas  Minutos jogados:  Golos  \\\n",
       "0       2023-12-31                24              1260      2   \n",
       "2       2024-04-10                28              1918      6   \n",
       "4       2023-11-30                33              2698      8   \n",
       "5       2024-12-31                33              2019      3   \n",
       "6       2024-04-10                25              1432      8   \n",
       "\n",
       "   Golos esperados Naturalidade País de nacionalidade        Pé  Altura  Peso  \\\n",
       "0             2.10       Brazil                Brazil   direito     176    75   \n",
       "2             7.06       Brazil                Brazil  esquerdo     182    72   \n",
       "4             7.97       Brazil                Brazil   direito     187    76   \n",
       "5             6.61       Brazil                Brazil   direito     177    77   \n",
       "6             3.71       Brazil                Brazil  esquerdo     185    78   \n",
       "\n",
       "  Emprestado  cluster  \n",
       "0        sim        0  \n",
       "2        sim        0  \n",
       "4        sim        0  \n",
       "5        sim        0  \n",
       "6        sim        0  "
      ]
     },
     "execution_count": 21,
     "metadata": {},
     "output_type": "execute_result"
    }
   ],
   "source": [
    "df_atack_2[df_atack_2['cluster'] == 0].head()"
   ]
  },
  {
   "cell_type": "markdown",
   "id": "7b9a51c0",
   "metadata": {},
   "source": [
    "## Clusterizando os Zagueiros"
   ]
  },
  {
   "cell_type": "code",
   "execution_count": 22,
   "id": "e7877c98",
   "metadata": {
    "scrolled": false
   },
   "outputs": [
    {
     "data": {
      "text/html": [
       "<div>\n",
       "<style scoped>\n",
       "    .dataframe tbody tr th:only-of-type {\n",
       "        vertical-align: middle;\n",
       "    }\n",
       "\n",
       "    .dataframe tbody tr th {\n",
       "        vertical-align: top;\n",
       "    }\n",
       "\n",
       "    .dataframe thead th {\n",
       "        text-align: right;\n",
       "    }\n",
       "</style>\n",
       "<table border=\"1\" class=\"dataframe\">\n",
       "  <thead>\n",
       "    <tr style=\"text-align: right;\">\n",
       "      <th></th>\n",
       "      <th>Jogador</th>\n",
       "      <th>Equipa</th>\n",
       "      <th>Posição</th>\n",
       "      <th>Idade</th>\n",
       "      <th>Valor de mercado</th>\n",
       "      <th>Contrato termina</th>\n",
       "      <th>Partidas jogadas</th>\n",
       "      <th>Minutos jogados:</th>\n",
       "      <th>Golos</th>\n",
       "      <th>Golos esperados</th>\n",
       "      <th>Naturalidade</th>\n",
       "      <th>País de nacionalidade</th>\n",
       "      <th>Pé</th>\n",
       "      <th>Altura</th>\n",
       "      <th>Peso</th>\n",
       "      <th>Emprestado</th>\n",
       "    </tr>\n",
       "  </thead>\n",
       "  <tbody>\n",
       "    <tr>\n",
       "      <th>0</th>\n",
       "      <td>Marquinhos</td>\n",
       "      <td>PSG</td>\n",
       "      <td>RCB, LCB</td>\n",
       "      <td>29</td>\n",
       "      <td>70000000</td>\n",
       "      <td>2028-06-30</td>\n",
       "      <td>45</td>\n",
       "      <td>4117</td>\n",
       "      <td>2</td>\n",
       "      <td>1.22</td>\n",
       "      <td>Brazil</td>\n",
       "      <td>Brazil, Portugal</td>\n",
       "      <td>direito</td>\n",
       "      <td>183</td>\n",
       "      <td>75</td>\n",
       "      <td>sim</td>\n",
       "    </tr>\n",
       "    <tr>\n",
       "      <th>1</th>\n",
       "      <td>Éder Militão</td>\n",
       "      <td>Real Madrid</td>\n",
       "      <td>RCB</td>\n",
       "      <td>25</td>\n",
       "      <td>70000000</td>\n",
       "      <td>2025-06-30</td>\n",
       "      <td>42</td>\n",
       "      <td>3855</td>\n",
       "      <td>6</td>\n",
       "      <td>4.88</td>\n",
       "      <td>Brazil</td>\n",
       "      <td>Brazil, Spain</td>\n",
       "      <td>direito</td>\n",
       "      <td>186</td>\n",
       "      <td>78</td>\n",
       "      <td>sim</td>\n",
       "    </tr>\n",
       "    <tr>\n",
       "      <th>2</th>\n",
       "      <td>Gabriel Magalhaes</td>\n",
       "      <td>Arsenal</td>\n",
       "      <td>LCB</td>\n",
       "      <td>25</td>\n",
       "      <td>50000000</td>\n",
       "      <td>2027-06-30</td>\n",
       "      <td>51</td>\n",
       "      <td>4674</td>\n",
       "      <td>3</td>\n",
       "      <td>4.52</td>\n",
       "      <td>Brazil</td>\n",
       "      <td>Brazil</td>\n",
       "      <td>esquerdo</td>\n",
       "      <td>190</td>\n",
       "      <td>87</td>\n",
       "      <td>sim</td>\n",
       "    </tr>\n",
       "    <tr>\n",
       "      <th>3</th>\n",
       "      <td>Bremer</td>\n",
       "      <td>Juventus</td>\n",
       "      <td>CB, RCB</td>\n",
       "      <td>26</td>\n",
       "      <td>40000000</td>\n",
       "      <td>2027-06-30</td>\n",
       "      <td>42</td>\n",
       "      <td>4022</td>\n",
       "      <td>4</td>\n",
       "      <td>7.26</td>\n",
       "      <td>Brazil</td>\n",
       "      <td>Brazil</td>\n",
       "      <td>direito</td>\n",
       "      <td>188</td>\n",
       "      <td>82</td>\n",
       "      <td>sim</td>\n",
       "    </tr>\n",
       "    <tr>\n",
       "      <th>4</th>\n",
       "      <td>Diego Carlos</td>\n",
       "      <td>Aston Villa</td>\n",
       "      <td>RCB</td>\n",
       "      <td>30</td>\n",
       "      <td>30000000</td>\n",
       "      <td>2026-06-30</td>\n",
       "      <td>11</td>\n",
       "      <td>652</td>\n",
       "      <td>0</td>\n",
       "      <td>1.36</td>\n",
       "      <td>Brazil</td>\n",
       "      <td>Brazil, Spain</td>\n",
       "      <td>direito</td>\n",
       "      <td>185</td>\n",
       "      <td>79</td>\n",
       "      <td>sim</td>\n",
       "    </tr>\n",
       "  </tbody>\n",
       "</table>\n",
       "</div>"
      ],
      "text/plain": [
       "             Jogador       Equipa   Posição  Idade  Valor de mercado  \\\n",
       "0         Marquinhos          PSG  RCB, LCB     29          70000000   \n",
       "1       Éder Militão  Real Madrid       RCB     25          70000000   \n",
       "2  Gabriel Magalhaes      Arsenal       LCB     25          50000000   \n",
       "3             Bremer     Juventus   CB, RCB     26          40000000   \n",
       "4       Diego Carlos  Aston Villa       RCB     30          30000000   \n",
       "\n",
       "  Contrato termina  Partidas jogadas  Minutos jogados:  Golos  \\\n",
       "0       2028-06-30                45              4117      2   \n",
       "1       2025-06-30                42              3855      6   \n",
       "2       2027-06-30                51              4674      3   \n",
       "3       2027-06-30                42              4022      4   \n",
       "4       2026-06-30                11               652      0   \n",
       "\n",
       "   Golos esperados Naturalidade País de nacionalidade        Pé  Altura  Peso  \\\n",
       "0             1.22       Brazil      Brazil, Portugal   direito     183    75   \n",
       "1             4.88       Brazil         Brazil, Spain   direito     186    78   \n",
       "2             4.52       Brazil                Brazil  esquerdo     190    87   \n",
       "3             7.26       Brazil                Brazil   direito     188    82   \n",
       "4             1.36       Brazil         Brazil, Spain   direito     185    79   \n",
       "\n",
       "  Emprestado  \n",
       "0        sim  \n",
       "1        sim  \n",
       "2        sim  \n",
       "3        sim  \n",
       "4        sim  "
      ]
     },
     "execution_count": 22,
     "metadata": {},
     "output_type": "execute_result"
    }
   ],
   "source": [
    "df_def.head()"
   ]
  },
  {
   "cell_type": "markdown",
   "id": "5206fb70",
   "metadata": {},
   "source": [
    "#### Selecionando as Features"
   ]
  },
  {
   "cell_type": "code",
   "execution_count": 23,
   "id": "817112a9",
   "metadata": {
    "scrolled": false
   },
   "outputs": [
    {
     "data": {
      "text/plain": [
       "Index(['Jogador', 'Equipa', 'Posição', 'Idade', 'Valor de mercado',\n",
       "       'Contrato termina', 'Partidas jogadas', 'Minutos jogados:', 'Golos',\n",
       "       'Golos esperados', 'Naturalidade', 'País de nacionalidade', 'Pé',\n",
       "       'Altura', 'Peso', 'Emprestado'],\n",
       "      dtype='object')"
      ]
     },
     "execution_count": 23,
     "metadata": {},
     "output_type": "execute_result"
    }
   ],
   "source": [
    "df_def.columns"
   ]
  },
  {
   "cell_type": "code",
   "execution_count": 24,
   "id": "75a84b95",
   "metadata": {},
   "outputs": [],
   "source": [
    "X = df_def[['Idade',\n",
    "                'Partidas jogadas', \n",
    "                'Minutos jogados:', \n",
    "                'Golos',\n",
    "                'Golos esperados',\n",
    "                'Pé',\n",
    "                'Altura', \n",
    "                'Peso'\n",
    "              ]].dropna()"
   ]
  },
  {
   "cell_type": "code",
   "execution_count": 25,
   "id": "d456e548",
   "metadata": {},
   "outputs": [],
   "source": [
    "X = pd.get_dummies(X)\n",
    "X = X.div(X.sum(axis=1), axis='rows')"
   ]
  },
  {
   "cell_type": "code",
   "execution_count": 26,
   "id": "92f2d508",
   "metadata": {},
   "outputs": [],
   "source": [
    "#for i in X.columns:\n",
    "#  X[i] = MinMaxScaler().fit_transform(np.array(X[i]).reshape(-1,1))"
   ]
  },
  {
   "cell_type": "code",
   "execution_count": 27,
   "id": "7fce383b",
   "metadata": {
    "scrolled": false
   },
   "outputs": [
    {
     "data": {
      "text/html": [
       "<div>\n",
       "<style scoped>\n",
       "    .dataframe tbody tr th:only-of-type {\n",
       "        vertical-align: middle;\n",
       "    }\n",
       "\n",
       "    .dataframe tbody tr th {\n",
       "        vertical-align: top;\n",
       "    }\n",
       "\n",
       "    .dataframe thead th {\n",
       "        text-align: right;\n",
       "    }\n",
       "</style>\n",
       "<table border=\"1\" class=\"dataframe\">\n",
       "  <thead>\n",
       "    <tr style=\"text-align: right;\">\n",
       "      <th></th>\n",
       "      <th>Idade</th>\n",
       "      <th>Partidas jogadas</th>\n",
       "      <th>Minutos jogados:</th>\n",
       "      <th>Golos</th>\n",
       "      <th>Golos esperados</th>\n",
       "      <th>Altura</th>\n",
       "      <th>Peso</th>\n",
       "      <th>Pé_ambos</th>\n",
       "      <th>Pé_direito</th>\n",
       "      <th>Pé_esquerdo</th>\n",
       "    </tr>\n",
       "  </thead>\n",
       "  <tbody>\n",
       "    <tr>\n",
       "      <th>0</th>\n",
       "      <td>0.006512</td>\n",
       "      <td>0.010105</td>\n",
       "      <td>0.924500</td>\n",
       "      <td>0.000449</td>\n",
       "      <td>0.000274</td>\n",
       "      <td>0.041094</td>\n",
       "      <td>0.016842</td>\n",
       "      <td>0.0</td>\n",
       "      <td>0.000225</td>\n",
       "      <td>0.000000</td>\n",
       "    </tr>\n",
       "    <tr>\n",
       "      <th>1</th>\n",
       "      <td>0.005955</td>\n",
       "      <td>0.010005</td>\n",
       "      <td>0.918321</td>\n",
       "      <td>0.001429</td>\n",
       "      <td>0.001162</td>\n",
       "      <td>0.044308</td>\n",
       "      <td>0.018581</td>\n",
       "      <td>0.0</td>\n",
       "      <td>0.000238</td>\n",
       "      <td>0.000000</td>\n",
       "    </tr>\n",
       "    <tr>\n",
       "      <th>2</th>\n",
       "      <td>0.004965</td>\n",
       "      <td>0.010128</td>\n",
       "      <td>0.928206</td>\n",
       "      <td>0.000596</td>\n",
       "      <td>0.000898</td>\n",
       "      <td>0.037732</td>\n",
       "      <td>0.017277</td>\n",
       "      <td>0.0</td>\n",
       "      <td>0.000000</td>\n",
       "      <td>0.000199</td>\n",
       "    </tr>\n",
       "    <tr>\n",
       "      <th>3</th>\n",
       "      <td>0.005947</td>\n",
       "      <td>0.009606</td>\n",
       "      <td>0.919890</td>\n",
       "      <td>0.000915</td>\n",
       "      <td>0.001660</td>\n",
       "      <td>0.042998</td>\n",
       "      <td>0.018755</td>\n",
       "      <td>0.0</td>\n",
       "      <td>0.000229</td>\n",
       "      <td>0.000000</td>\n",
       "    </tr>\n",
       "    <tr>\n",
       "      <th>4</th>\n",
       "      <td>0.031271</td>\n",
       "      <td>0.011466</td>\n",
       "      <td>0.679620</td>\n",
       "      <td>0.000000</td>\n",
       "      <td>0.001418</td>\n",
       "      <td>0.192837</td>\n",
       "      <td>0.082347</td>\n",
       "      <td>0.0</td>\n",
       "      <td>0.001042</td>\n",
       "      <td>0.000000</td>\n",
       "    </tr>\n",
       "  </tbody>\n",
       "</table>\n",
       "</div>"
      ],
      "text/plain": [
       "      Idade  Partidas jogadas  Minutos jogados:     Golos  Golos esperados  \\\n",
       "0  0.006512          0.010105          0.924500  0.000449         0.000274   \n",
       "1  0.005955          0.010005          0.918321  0.001429         0.001162   \n",
       "2  0.004965          0.010128          0.928206  0.000596         0.000898   \n",
       "3  0.005947          0.009606          0.919890  0.000915         0.001660   \n",
       "4  0.031271          0.011466          0.679620  0.000000         0.001418   \n",
       "\n",
       "     Altura      Peso  Pé_ambos  Pé_direito  Pé_esquerdo  \n",
       "0  0.041094  0.016842       0.0    0.000225     0.000000  \n",
       "1  0.044308  0.018581       0.0    0.000238     0.000000  \n",
       "2  0.037732  0.017277       0.0    0.000000     0.000199  \n",
       "3  0.042998  0.018755       0.0    0.000229     0.000000  \n",
       "4  0.192837  0.082347       0.0    0.001042     0.000000  "
      ]
     },
     "execution_count": 27,
     "metadata": {},
     "output_type": "execute_result"
    }
   ],
   "source": [
    "X.head()"
   ]
  },
  {
   "cell_type": "code",
   "execution_count": 28,
   "id": "4e7bff12",
   "metadata": {},
   "outputs": [],
   "source": [
    "kmeans = KMeans(n_clusters=3, algorithm='elkan')\n",
    "kmeans.fit(X)\n",
    "\n",
    "kmeans.cluster_centers_\n",
    "\n",
    "pred = kmeans.fit_predict(X)"
   ]
  },
  {
   "cell_type": "code",
   "execution_count": 29,
   "id": "f03ad053",
   "metadata": {},
   "outputs": [
    {
     "name": "stderr",
     "output_type": "stream",
     "text": [
      "C:\\Users\\ismae\\anaconda3\\lib\\site-packages\\sklearn\\cluster\\_kmeans.py:1036: UserWarning: KMeans is known to have a memory leak on Windows with MKL, when there are less chunks than available threads. You can avoid it by setting the environment variable OMP_NUM_THREADS=3.\n",
      "  warnings.warn(\n"
     ]
    },
    {
     "data": {
      "image/png": "[encoded data removed]",
      "text/plain": [
       "<Figure size 640x480 with 1 Axes>"
      ]
     },
     "metadata": {},
     "output_type": "display_data"
    }
   ],
   "source": [
    "sse = [] #SUM OF SQUARED ERROR\n",
    "for k in range(1,11):\n",
    "    km = KMeans(n_clusters=k, random_state=2)\n",
    "    km.fit(X)\n",
    "    sse.append(km.inertia_)\n",
    "    \n",
    "sns.set_style(\"whitegrid\")\n",
    "g=sns.lineplot(x=range(1,11), y=sse)\n",
    " \n",
    "g.set(xlabel =\"Number of cluster (k)\", \n",
    "      ylabel = \"Sum Squared Error\", \n",
    "      title ='Elbow Method')\n",
    " \n",
    "plt.show()"
   ]
  },
  {
   "cell_type": "code",
   "execution_count": 30,
   "id": "d36fe37d",
   "metadata": {
    "scrolled": true
   },
   "outputs": [],
   "source": [
    "df_def['cluster'] = pred"
   ]
  },
  {
   "cell_type": "markdown",
   "id": "746ad53d",
   "metadata": {},
   "source": [
    "#### Filtrando as Classes desejadas"
   ]
  },
  {
   "cell_type": "code",
   "execution_count": 31,
   "id": "19683782",
   "metadata": {
    "scrolled": false
   },
   "outputs": [
    {
     "data": {
      "text/html": [
       "<div>\n",
       "<style scoped>\n",
       "    .dataframe tbody tr th:only-of-type {\n",
       "        vertical-align: middle;\n",
       "    }\n",
       "\n",
       "    .dataframe tbody tr th {\n",
       "        vertical-align: top;\n",
       "    }\n",
       "\n",
       "    .dataframe thead th {\n",
       "        text-align: right;\n",
       "    }\n",
       "</style>\n",
       "<table border=\"1\" class=\"dataframe\">\n",
       "  <thead>\n",
       "    <tr style=\"text-align: right;\">\n",
       "      <th></th>\n",
       "      <th>Jogador</th>\n",
       "      <th>Equipa</th>\n",
       "      <th>Posição</th>\n",
       "      <th>Idade</th>\n",
       "      <th>Valor de mercado</th>\n",
       "      <th>Contrato termina</th>\n",
       "      <th>Partidas jogadas</th>\n",
       "      <th>Minutos jogados:</th>\n",
       "      <th>Golos</th>\n",
       "      <th>Golos esperados</th>\n",
       "      <th>Naturalidade</th>\n",
       "      <th>País de nacionalidade</th>\n",
       "      <th>Pé</th>\n",
       "      <th>Altura</th>\n",
       "      <th>Peso</th>\n",
       "      <th>Emprestado</th>\n",
       "      <th>cluster</th>\n",
       "    </tr>\n",
       "  </thead>\n",
       "  <tbody>\n",
       "    <tr>\n",
       "      <th>4</th>\n",
       "      <td>Diego Carlos</td>\n",
       "      <td>Aston Villa</td>\n",
       "      <td>RCB</td>\n",
       "      <td>30</td>\n",
       "      <td>30000000</td>\n",
       "      <td>2026-06-30</td>\n",
       "      <td>11</td>\n",
       "      <td>652</td>\n",
       "      <td>0</td>\n",
       "      <td>1.36</td>\n",
       "      <td>Brazil</td>\n",
       "      <td>Brazil, Spain</td>\n",
       "      <td>direito</td>\n",
       "      <td>185</td>\n",
       "      <td>79</td>\n",
       "      <td>sim</td>\n",
       "      <td>0</td>\n",
       "    </tr>\n",
       "    <tr>\n",
       "      <th>28</th>\n",
       "      <td>Kaiky</td>\n",
       "      <td>Almería</td>\n",
       "      <td>RCB, LCB</td>\n",
       "      <td>19</td>\n",
       "      <td>5000000</td>\n",
       "      <td>2028-06-30</td>\n",
       "      <td>14</td>\n",
       "      <td>854</td>\n",
       "      <td>1</td>\n",
       "      <td>0.22</td>\n",
       "      <td>Brazil</td>\n",
       "      <td>Brazil</td>\n",
       "      <td>direito</td>\n",
       "      <td>181</td>\n",
       "      <td>76</td>\n",
       "      <td>sim</td>\n",
       "      <td>0</td>\n",
       "    </tr>\n",
       "    <tr>\n",
       "      <th>56</th>\n",
       "      <td>Igor Rabello</td>\n",
       "      <td>Atlético Mineiro</td>\n",
       "      <td>RCB</td>\n",
       "      <td>28</td>\n",
       "      <td>3000000</td>\n",
       "      <td>2025-12-31</td>\n",
       "      <td>8</td>\n",
       "      <td>586</td>\n",
       "      <td>0</td>\n",
       "      <td>0.00</td>\n",
       "      <td>Brazil</td>\n",
       "      <td>Brazil</td>\n",
       "      <td>direito</td>\n",
       "      <td>190</td>\n",
       "      <td>90</td>\n",
       "      <td>sim</td>\n",
       "      <td>0</td>\n",
       "    </tr>\n",
       "    <tr>\n",
       "      <th>72</th>\n",
       "      <td>Lucas Ribeiro</td>\n",
       "      <td>Ceará</td>\n",
       "      <td>LCB, RCB</td>\n",
       "      <td>24</td>\n",
       "      <td>2000000</td>\n",
       "      <td>2024-06-30</td>\n",
       "      <td>5</td>\n",
       "      <td>431</td>\n",
       "      <td>0</td>\n",
       "      <td>0.00</td>\n",
       "      <td>Brazil</td>\n",
       "      <td>Brazil</td>\n",
       "      <td>direito</td>\n",
       "      <td>190</td>\n",
       "      <td>80</td>\n",
       "      <td>sim</td>\n",
       "      <td>0</td>\n",
       "    </tr>\n",
       "    <tr>\n",
       "      <th>73</th>\n",
       "      <td>Rodrigo Caio</td>\n",
       "      <td>Flamengo</td>\n",
       "      <td>CB, RCB</td>\n",
       "      <td>30</td>\n",
       "      <td>2000000</td>\n",
       "      <td>2023-12-31</td>\n",
       "      <td>9</td>\n",
       "      <td>685</td>\n",
       "      <td>0</td>\n",
       "      <td>0.33</td>\n",
       "      <td>Brazil</td>\n",
       "      <td>Brazil, Italy</td>\n",
       "      <td>direito</td>\n",
       "      <td>183</td>\n",
       "      <td>74</td>\n",
       "      <td>sim</td>\n",
       "      <td>0</td>\n",
       "    </tr>\n",
       "  </tbody>\n",
       "</table>\n",
       "</div>"
      ],
      "text/plain": [
       "          Jogador            Equipa   Posição  Idade  Valor de mercado  \\\n",
       "4    Diego Carlos       Aston Villa       RCB     30          30000000   \n",
       "28          Kaiky           Almería  RCB, LCB     19           5000000   \n",
       "56   Igor Rabello  Atlético Mineiro       RCB     28           3000000   \n",
       "72  Lucas Ribeiro             Ceará  LCB, RCB     24           2000000   \n",
       "73   Rodrigo Caio          Flamengo   CB, RCB     30           2000000   \n",
       "\n",
       "   Contrato termina  Partidas jogadas  Minutos jogados:  Golos  \\\n",
       "4        2026-06-30                11               652      0   \n",
       "28       2028-06-30                14               854      1   \n",
       "56       2025-12-31                 8               586      0   \n",
       "72       2024-06-30                 5               431      0   \n",
       "73       2023-12-31                 9               685      0   \n",
       "\n",
       "    Golos esperados Naturalidade País de nacionalidade       Pé  Altura  Peso  \\\n",
       "4              1.36       Brazil         Brazil, Spain  direito     185    79   \n",
       "28             0.22       Brazil                Brazil  direito     181    76   \n",
       "56             0.00       Brazil                Brazil  direito     190    90   \n",
       "72             0.00       Brazil                Brazil  direito     190    80   \n",
       "73             0.33       Brazil         Brazil, Italy  direito     183    74   \n",
       "\n",
       "   Emprestado  cluster  \n",
       "4         sim        0  \n",
       "28        sim        0  \n",
       "56        sim        0  \n",
       "72        sim        0  \n",
       "73        sim        0  "
      ]
     },
     "execution_count": 31,
     "metadata": {},
     "output_type": "execute_result"
    }
   ],
   "source": [
    "df_def[df_def['cluster'] == 0].head()"
   ]
  },
  {
   "cell_type": "markdown",
   "id": "e4dfbda1",
   "metadata": {},
   "source": [
    "#  5 jogadores mais similares com novas Features"
   ]
  },
  {
   "cell_type": "code",
   "execution_count": 3,
   "id": "5000c82b",
   "metadata": {},
   "outputs": [],
   "source": [
    "df_atack_3 = pd.read_excel('atacantes_3.xlsx')"
   ]
  },
  {
   "cell_type": "code",
   "execution_count": 4,
   "id": "24569849",
   "metadata": {
    "scrolled": false
   },
   "outputs": [
    {
     "data": {
      "text/html": [
       "<div>\n",
       "<style scoped>\n",
       "    .dataframe tbody tr th:only-of-type {\n",
       "        vertical-align: middle;\n",
       "    }\n",
       "\n",
       "    .dataframe tbody tr th {\n",
       "        vertical-align: top;\n",
       "    }\n",
       "\n",
       "    .dataframe thead th {\n",
       "        text-align: right;\n",
       "    }\n",
       "</style>\n",
       "<table border=\"1\" class=\"dataframe\">\n",
       "  <thead>\n",
       "    <tr style=\"text-align: right;\">\n",
       "      <th></th>\n",
       "      <th>Jogador</th>\n",
       "      <th>Golos</th>\n",
       "      <th>Assistências</th>\n",
       "      <th>Duelos ganhos, %</th>\n",
       "      <th>Ações defensivas com êxito/90</th>\n",
       "      <th>Passes certos, %</th>\n",
       "    </tr>\n",
       "  </thead>\n",
       "  <tbody>\n",
       "    <tr>\n",
       "      <th>0</th>\n",
       "      <td>Vinícius Júnior</td>\n",
       "      <td>20</td>\n",
       "      <td>21</td>\n",
       "      <td>43.34</td>\n",
       "      <td>3.81</td>\n",
       "      <td>76.48</td>\n",
       "    </tr>\n",
       "    <tr>\n",
       "      <th>1</th>\n",
       "      <td>Rodrygo</td>\n",
       "      <td>19</td>\n",
       "      <td>8</td>\n",
       "      <td>46.66</td>\n",
       "      <td>3.78</td>\n",
       "      <td>87.90</td>\n",
       "    </tr>\n",
       "    <tr>\n",
       "      <th>2</th>\n",
       "      <td>Gabriel Jesus</td>\n",
       "      <td>11</td>\n",
       "      <td>2</td>\n",
       "      <td>34.58</td>\n",
       "      <td>5.48</td>\n",
       "      <td>82.16</td>\n",
       "    </tr>\n",
       "    <tr>\n",
       "      <th>3</th>\n",
       "      <td>Neymar</td>\n",
       "      <td>8</td>\n",
       "      <td>10</td>\n",
       "      <td>41.74</td>\n",
       "      <td>2.34</td>\n",
       "      <td>83.18</td>\n",
       "    </tr>\n",
       "    <tr>\n",
       "      <th>4</th>\n",
       "      <td>Richarlison</td>\n",
       "      <td>6</td>\n",
       "      <td>4</td>\n",
       "      <td>34.66</td>\n",
       "      <td>4.17</td>\n",
       "      <td>71.43</td>\n",
       "    </tr>\n",
       "  </tbody>\n",
       "</table>\n",
       "</div>"
      ],
      "text/plain": [
       "           Jogador  Golos  Assistências  Duelos ganhos, %  \\\n",
       "0  Vinícius Júnior     20            21             43.34   \n",
       "1          Rodrygo     19             8             46.66   \n",
       "2    Gabriel Jesus     11             2             34.58   \n",
       "3           Neymar      8            10             41.74   \n",
       "4      Richarlison      6             4             34.66   \n",
       "\n",
       "   Ações defensivas com êxito/90  Passes certos, %  \n",
       "0                           3.81             76.48  \n",
       "1                           3.78             87.90  \n",
       "2                           5.48             82.16  \n",
       "3                           2.34             83.18  \n",
       "4                           4.17             71.43  "
      ]
     },
     "execution_count": 4,
     "metadata": {},
     "output_type": "execute_result"
    }
   ],
   "source": [
    "df_atack_3.head()"
   ]
  },
  {
   "cell_type": "markdown",
   "id": "dd65b784",
   "metadata": {},
   "source": [
    "#### Selecionando as Features"
   ]
  },
  {
   "cell_type": "code",
   "execution_count": 5,
   "id": "4121f5fa",
   "metadata": {
    "scrolled": false
   },
   "outputs": [
    {
     "data": {
      "text/plain": [
       "Index(['Jogador', 'Golos', 'Assistências', 'Duelos ganhos, %',\n",
       "       'Ações defensivas com êxito/90', 'Passes certos, %'],\n",
       "      dtype='object')"
      ]
     },
     "execution_count": 5,
     "metadata": {},
     "output_type": "execute_result"
    }
   ],
   "source": [
    "df_atack_3.columns"
   ]
  },
  {
   "cell_type": "code",
   "execution_count": 7,
   "id": "c450b154",
   "metadata": {},
   "outputs": [],
   "source": [
    "X = df_atack_3[['Golos', 'Assistências', 'Duelos ganhos, %',\n",
    "       'Ações defensivas com êxito/90', 'Passes certos, %']].dropna()"
   ]
  },
  {
   "cell_type": "code",
   "execution_count": 8,
   "id": "e2dd3a9b",
   "metadata": {},
   "outputs": [],
   "source": [
    "for i in X.columns:\n",
    "  X[i] = MinMaxScaler().fit_transform(np.array(X[i]).reshape(-1,1))"
   ]
  },
  {
   "cell_type": "code",
   "execution_count": 9,
   "id": "ca9db71d",
   "metadata": {
    "scrolled": false
   },
   "outputs": [
    {
     "data": {
      "text/html": [
       "<div>\n",
       "<style scoped>\n",
       "    .dataframe tbody tr th:only-of-type {\n",
       "        vertical-align: middle;\n",
       "    }\n",
       "\n",
       "    .dataframe tbody tr th {\n",
       "        vertical-align: top;\n",
       "    }\n",
       "\n",
       "    .dataframe thead th {\n",
       "        text-align: right;\n",
       "    }\n",
       "</style>\n",
       "<table border=\"1\" class=\"dataframe\">\n",
       "  <thead>\n",
       "    <tr style=\"text-align: right;\">\n",
       "      <th></th>\n",
       "      <th>Golos</th>\n",
       "      <th>Assistências</th>\n",
       "      <th>Duelos ganhos, %</th>\n",
       "      <th>Ações defensivas com êxito/90</th>\n",
       "      <th>Passes certos, %</th>\n",
       "    </tr>\n",
       "  </thead>\n",
       "  <tbody>\n",
       "    <tr>\n",
       "      <th>0</th>\n",
       "      <td>0.606061</td>\n",
       "      <td>1.000000</td>\n",
       "      <td>0.592991</td>\n",
       "      <td>0.269436</td>\n",
       "      <td>0.626162</td>\n",
       "    </tr>\n",
       "    <tr>\n",
       "      <th>1</th>\n",
       "      <td>0.575758</td>\n",
       "      <td>0.380952</td>\n",
       "      <td>0.695051</td>\n",
       "      <td>0.266241</td>\n",
       "      <td>0.980161</td>\n",
       "    </tr>\n",
       "    <tr>\n",
       "      <th>2</th>\n",
       "      <td>0.333333</td>\n",
       "      <td>0.095238</td>\n",
       "      <td>0.323701</td>\n",
       "      <td>0.447284</td>\n",
       "      <td>0.802232</td>\n",
       "    </tr>\n",
       "    <tr>\n",
       "      <th>3</th>\n",
       "      <td>0.242424</td>\n",
       "      <td>0.476190</td>\n",
       "      <td>0.543806</td>\n",
       "      <td>0.112886</td>\n",
       "      <td>0.833850</td>\n",
       "    </tr>\n",
       "    <tr>\n",
       "      <th>4</th>\n",
       "      <td>0.181818</td>\n",
       "      <td>0.190476</td>\n",
       "      <td>0.326160</td>\n",
       "      <td>0.307774</td>\n",
       "      <td>0.469622</td>\n",
       "    </tr>\n",
       "  </tbody>\n",
       "</table>\n",
       "</div>"
      ],
      "text/plain": [
       "      Golos  Assistências  Duelos ganhos, %  Ações defensivas com êxito/90  \\\n",
       "0  0.606061      1.000000          0.592991                       0.269436   \n",
       "1  0.575758      0.380952          0.695051                       0.266241   \n",
       "2  0.333333      0.095238          0.323701                       0.447284   \n",
       "3  0.242424      0.476190          0.543806                       0.112886   \n",
       "4  0.181818      0.190476          0.326160                       0.307774   \n",
       "\n",
       "   Passes certos, %  \n",
       "0          0.626162  \n",
       "1          0.980161  \n",
       "2          0.802232  \n",
       "3          0.833850  \n",
       "4          0.469622  "
      ]
     },
     "execution_count": 9,
     "metadata": {},
     "output_type": "execute_result"
    }
   ],
   "source": [
    "X.head()"
   ]
  },
  {
   "cell_type": "code",
   "execution_count": 10,
   "id": "34d02be3",
   "metadata": {},
   "outputs": [],
   "source": [
    "kmeans = KMeans(n_clusters=3, algorithm='elkan')\n",
    "kmeans.fit(X)\n",
    "\n",
    "kmeans.cluster_centers_\n",
    "\n",
    "pred = kmeans.fit_predict(X)"
   ]
  },
  {
   "cell_type": "code",
   "execution_count": 11,
   "id": "349bce4b",
   "metadata": {},
   "outputs": [
    {
     "name": "stderr",
     "output_type": "stream",
     "text": [
      "C:\\Users\\ismae\\anaconda3\\lib\\site-packages\\sklearn\\cluster\\_kmeans.py:1036: UserWarning: KMeans is known to have a memory leak on Windows with MKL, when there are less chunks than available threads. You can avoid it by setting the environment variable OMP_NUM_THREADS=2.\n",
      "  warnings.warn(\n"
     ]
    },
    {
     "data": {
      "image/png": "[encoded data removed]",
      "text/plain": [
       "<Figure size 640x480 with 1 Axes>"
      ]
     },
     "metadata": {},
     "output_type": "display_data"
    }
   ],
   "source": [
    "sse = [] #SUM OF SQUARED ERROR\n",
    "for k in range(1,11):\n",
    "    km = KMeans(n_clusters=k, random_state=2)\n",
    "    km.fit(X)\n",
    "    sse.append(km.inertia_)\n",
    "    \n",
    "sns.set_style(\"whitegrid\")\n",
    "g=sns.lineplot(x=range(1,11), y=sse)\n",
    " \n",
    "g.set(xlabel =\"Number of cluster (k)\", \n",
    "      ylabel = \"Sum Squared Error\", \n",
    "      title ='Elbow Method')\n",
    " \n",
    "plt.show()"
   ]
  },
  {
   "cell_type": "code",
   "execution_count": 12,
   "id": "4e6dcb75",
   "metadata": {
    "scrolled": true
   },
   "outputs": [],
   "source": [
    "df_atack_3['cluster'] = pred"
   ]
  },
  {
   "cell_type": "markdown",
   "id": "79901cd3",
   "metadata": {},
   "source": [
    "#### Filtrando as Classes desejadas"
   ]
  },
  {
   "cell_type": "code",
   "execution_count": 13,
   "id": "c71722b9",
   "metadata": {
    "scrolled": false
   },
   "outputs": [
    {
     "data": {
      "text/html": [
       "<div>\n",
       "<style scoped>\n",
       "    .dataframe tbody tr th:only-of-type {\n",
       "        vertical-align: middle;\n",
       "    }\n",
       "\n",
       "    .dataframe tbody tr th {\n",
       "        vertical-align: top;\n",
       "    }\n",
       "\n",
       "    .dataframe thead th {\n",
       "        text-align: right;\n",
       "    }\n",
       "</style>\n",
       "<table border=\"1\" class=\"dataframe\">\n",
       "  <thead>\n",
       "    <tr style=\"text-align: right;\">\n",
       "      <th></th>\n",
       "      <th>Jogador</th>\n",
       "      <th>Golos</th>\n",
       "      <th>Assistências</th>\n",
       "      <th>Duelos ganhos, %</th>\n",
       "      <th>Ações defensivas com êxito/90</th>\n",
       "      <th>Passes certos, %</th>\n",
       "      <th>cluster</th>\n",
       "    </tr>\n",
       "  </thead>\n",
       "  <tbody>\n",
       "    <tr>\n",
       "      <th>2</th>\n",
       "      <td>Gabriel Jesus</td>\n",
       "      <td>11</td>\n",
       "      <td>2</td>\n",
       "      <td>34.58</td>\n",
       "      <td>5.48</td>\n",
       "      <td>82.16</td>\n",
       "      <td>0</td>\n",
       "    </tr>\n",
       "    <tr>\n",
       "      <th>5</th>\n",
       "      <td>João Pedro</td>\n",
       "      <td>11</td>\n",
       "      <td>3</td>\n",
       "      <td>41.60</td>\n",
       "      <td>4.66</td>\n",
       "      <td>77.78</td>\n",
       "      <td>0</td>\n",
       "    </tr>\n",
       "    <tr>\n",
       "      <th>6</th>\n",
       "      <td>Matheus Cunha</td>\n",
       "      <td>4</td>\n",
       "      <td>3</td>\n",
       "      <td>39.79</td>\n",
       "      <td>5.96</td>\n",
       "      <td>75.80</td>\n",
       "      <td>0</td>\n",
       "    </tr>\n",
       "    <tr>\n",
       "      <th>7</th>\n",
       "      <td>Roberto Firmino</td>\n",
       "      <td>7</td>\n",
       "      <td>3</td>\n",
       "      <td>39.47</td>\n",
       "      <td>5.00</td>\n",
       "      <td>85.27</td>\n",
       "      <td>0</td>\n",
       "    </tr>\n",
       "    <tr>\n",
       "      <th>12</th>\n",
       "      <td>Talles Magno</td>\n",
       "      <td>4</td>\n",
       "      <td>1</td>\n",
       "      <td>41.29</td>\n",
       "      <td>4.02</td>\n",
       "      <td>83.31</td>\n",
       "      <td>0</td>\n",
       "    </tr>\n",
       "  </tbody>\n",
       "</table>\n",
       "</div>"
      ],
      "text/plain": [
       "            Jogador  Golos  Assistências  Duelos ganhos, %  \\\n",
       "2     Gabriel Jesus     11             2             34.58   \n",
       "5        João Pedro     11             3             41.60   \n",
       "6     Matheus Cunha      4             3             39.79   \n",
       "7   Roberto Firmino      7             3             39.47   \n",
       "12     Talles Magno      4             1             41.29   \n",
       "\n",
       "    Ações defensivas com êxito/90  Passes certos, %  cluster  \n",
       "2                            5.48             82.16        0  \n",
       "5                            4.66             77.78        0  \n",
       "6                            5.96             75.80        0  \n",
       "7                            5.00             85.27        0  \n",
       "12                           4.02             83.31        0  "
      ]
     },
     "execution_count": 13,
     "metadata": {},
     "output_type": "execute_result"
    }
   ],
   "source": [
    "df_atack_3[df_atack_3['cluster'] == 0].head()"
   ]
  },
  {
   "cell_type": "markdown",
   "id": "c0b008eb",
   "metadata": {},
   "source": [
    "### Numero de jogadores similares"
   ]
  },
  {
   "cell_type": "code",
   "execution_count": 15,
   "id": "d38b9113",
   "metadata": {},
   "outputs": [],
   "source": [
    "knn = NearestNeighbors(n_neighbors=6) # 5 mais ele mesmo"
   ]
  },
  {
   "cell_type": "markdown",
   "id": "e4d7ccff",
   "metadata": {},
   "source": [
    "### Treinando modelo"
   ]
  },
  {
   "cell_type": "code",
   "execution_count": 16,
   "id": "26978f09",
   "metadata": {},
   "outputs": [
    {
     "data": {
      "text/plain": [
       "NearestNeighbors(n_neighbors=6)"
      ]
     },
     "execution_count": 16,
     "metadata": {},
     "output_type": "execute_result"
    }
   ],
   "source": [
    "knn.fit(X)"
   ]
  },
  {
   "cell_type": "markdown",
   "id": "994f2579",
   "metadata": {},
   "source": [
    "#### Jogadores mais proximos ao Gabriel Barbosa"
   ]
  },
  {
   "cell_type": "code",
   "execution_count": 18,
   "id": "f2d3937b",
   "metadata": {},
   "outputs": [
    {
     "data": {
      "text/html": [
       "<div>\n",
       "<style scoped>\n",
       "    .dataframe tbody tr th:only-of-type {\n",
       "        vertical-align: middle;\n",
       "    }\n",
       "\n",
       "    .dataframe tbody tr th {\n",
       "        vertical-align: top;\n",
       "    }\n",
       "\n",
       "    .dataframe thead th {\n",
       "        text-align: right;\n",
       "    }\n",
       "</style>\n",
       "<table border=\"1\" class=\"dataframe\">\n",
       "  <thead>\n",
       "    <tr style=\"text-align: right;\">\n",
       "      <th></th>\n",
       "      <th>Jogador</th>\n",
       "      <th>Golos</th>\n",
       "      <th>Assistências</th>\n",
       "      <th>Duelos ganhos, %</th>\n",
       "      <th>Ações defensivas com êxito/90</th>\n",
       "      <th>Passes certos, %</th>\n",
       "      <th>cluster</th>\n",
       "    </tr>\n",
       "  </thead>\n",
       "  <tbody>\n",
       "    <tr>\n",
       "      <th>9</th>\n",
       "      <td>Gabriel Barbosa</td>\n",
       "      <td>20</td>\n",
       "      <td>3</td>\n",
       "      <td>35.86</td>\n",
       "      <td>1.28</td>\n",
       "      <td>83.68</td>\n",
       "      <td>1</td>\n",
       "    </tr>\n",
       "  </tbody>\n",
       "</table>\n",
       "</div>"
      ],
      "text/plain": [
       "           Jogador  Golos  Assistências  Duelos ganhos, %  \\\n",
       "9  Gabriel Barbosa     20             3             35.86   \n",
       "\n",
       "   Ações defensivas com êxito/90  Passes certos, %  cluster  \n",
       "9                           1.28             83.68        1  "
      ]
     },
     "execution_count": 18,
     "metadata": {},
     "output_type": "execute_result"
    }
   ],
   "source": [
    "df_atack_3[df_atack_3['Jogador'] == \"Gabriel Barbosa\"]"
   ]
  },
  {
   "cell_type": "code",
   "execution_count": 27,
   "id": "74f5e154",
   "metadata": {},
   "outputs": [],
   "source": [
    "similares = knn.kneighbors(X.iloc[df_atack_3[df_atack_3['Jogador'] == \"Gabriel Barbosa\"].index.tolist()])"
   ]
  },
  {
   "cell_type": "code",
   "execution_count": 28,
   "id": "5de600e4",
   "metadata": {},
   "outputs": [
    {
     "data": {
      "text/plain": [
       "array([0.1252845 , 0.23430441, 0.24352616, 0.24757595, 0.25739216])"
      ]
     },
     "execution_count": 28,
     "metadata": {},
     "output_type": "execute_result"
    }
   ],
   "source": [
    "similares[0][0][1:]"
   ]
  },
  {
   "cell_type": "code",
   "execution_count": 29,
   "id": "5f8568c9",
   "metadata": {},
   "outputs": [
    {
     "data": {
      "text/plain": [
       "'Willen Mota'"
      ]
     },
     "metadata": {},
     "output_type": "display_data"
    },
    {
     "data": {
      "text/plain": [
       "1"
      ]
     },
     "metadata": {},
     "output_type": "display_data"
    },
    {
     "data": {
      "text/plain": [
       "'Sassá'"
      ]
     },
     "metadata": {},
     "output_type": "display_data"
    },
    {
     "data": {
      "text/plain": [
       "1"
      ]
     },
     "metadata": {},
     "output_type": "display_data"
    },
    {
     "data": {
      "text/plain": [
       "'Brenner'"
      ]
     },
     "metadata": {},
     "output_type": "display_data"
    },
    {
     "data": {
      "text/plain": [
       "1"
      ]
     },
     "metadata": {},
     "output_type": "display_data"
    },
    {
     "data": {
      "text/plain": [
       "'Léo Gamalho'"
      ]
     },
     "metadata": {},
     "output_type": "display_data"
    },
    {
     "data": {
      "text/plain": [
       "1"
      ]
     },
     "metadata": {},
     "output_type": "display_data"
    },
    {
     "data": {
      "text/plain": [
       "'Eduardo Sasha'"
      ]
     },
     "metadata": {},
     "output_type": "display_data"
    },
    {
     "data": {
      "text/plain": [
       "1"
      ]
     },
     "metadata": {},
     "output_type": "display_data"
    }
   ],
   "source": [
    "for i in similares[1][0][1:]:\n",
    "    display(df_atack_3.iloc[i][\"Jogador\"])\n",
    "    display(df_atack_3.iloc[i][\"cluster\"])"
   ]
  },
  {
   "cell_type": "markdown",
   "id": "879c7e41",
   "metadata": {},
   "source": [
    "#### Jogadores mais proximos ao Leandro Damião"
   ]
  },
  {
   "cell_type": "code",
   "execution_count": 30,
   "id": "f8035429",
   "metadata": {},
   "outputs": [
    {
     "data": {
      "text/html": [
       "<div>\n",
       "<style scoped>\n",
       "    .dataframe tbody tr th:only-of-type {\n",
       "        vertical-align: middle;\n",
       "    }\n",
       "\n",
       "    .dataframe tbody tr th {\n",
       "        vertical-align: top;\n",
       "    }\n",
       "\n",
       "    .dataframe thead th {\n",
       "        text-align: right;\n",
       "    }\n",
       "</style>\n",
       "<table border=\"1\" class=\"dataframe\">\n",
       "  <thead>\n",
       "    <tr style=\"text-align: right;\">\n",
       "      <th></th>\n",
       "      <th>Jogador</th>\n",
       "      <th>Golos</th>\n",
       "      <th>Assistências</th>\n",
       "      <th>Duelos ganhos, %</th>\n",
       "      <th>Ações defensivas com êxito/90</th>\n",
       "      <th>Passes certos, %</th>\n",
       "      <th>cluster</th>\n",
       "    </tr>\n",
       "  </thead>\n",
       "  <tbody>\n",
       "    <tr>\n",
       "      <th>108</th>\n",
       "      <td>Leandro Damião</td>\n",
       "      <td>1</td>\n",
       "      <td>1</td>\n",
       "      <td>38.02</td>\n",
       "      <td>2.87</td>\n",
       "      <td>63.64</td>\n",
       "      <td>2</td>\n",
       "    </tr>\n",
       "  </tbody>\n",
       "</table>\n",
       "</div>"
      ],
      "text/plain": [
       "            Jogador  Golos  Assistências  Duelos ganhos, %  \\\n",
       "108  Leandro Damião      1             1             38.02   \n",
       "\n",
       "     Ações defensivas com êxito/90  Passes certos, %  cluster  \n",
       "108                           2.87             63.64        2  "
      ]
     },
     "execution_count": 30,
     "metadata": {},
     "output_type": "execute_result"
    }
   ],
   "source": [
    "df_atack_3[df_atack_3['Jogador'] == \"Leandro Damião\"]"
   ]
  },
  {
   "cell_type": "code",
   "execution_count": 31,
   "id": "438ab35b",
   "metadata": {},
   "outputs": [],
   "source": [
    "similares = knn.kneighbors(X.iloc[df_atack_3[df_atack_3['Jogador'] == \"Leandro Damião\"].index.tolist()])"
   ]
  },
  {
   "cell_type": "code",
   "execution_count": 32,
   "id": "a5d78724",
   "metadata": {},
   "outputs": [
    {
     "data": {
      "text/plain": [
       "array([0.15961115, 0.16094688, 0.16359702, 0.18671825, 0.19703627])"
      ]
     },
     "execution_count": 32,
     "metadata": {},
     "output_type": "execute_result"
    }
   ],
   "source": [
    "similares[0][0][1:]"
   ]
  },
  {
   "cell_type": "code",
   "execution_count": null,
   "id": "5f1a9ca4",
   "metadata": {},
   "outputs": [],
   "source": [
    "np.sort(euclidean_distances(X, X.iloc[df_atack_3[df_atack_3['Jogador'] == \"Fernando Boldrin\"].index.tolist()]).flatten())[1:6]"
   ]
  },
  {
   "cell_type": "code",
   "execution_count": 33,
   "id": "053cb83c",
   "metadata": {},
   "outputs": [
    {
     "data": {
      "text/plain": [
       "'Matheus Alves'"
      ]
     },
     "metadata": {},
     "output_type": "display_data"
    },
    {
     "data": {
      "text/plain": [
       "2"
      ]
     },
     "metadata": {},
     "output_type": "display_data"
    },
    {
     "data": {
      "text/plain": [
       "'Léo Bahia'"
      ]
     },
     "metadata": {},
     "output_type": "display_data"
    },
    {
     "data": {
      "text/plain": [
       "2"
      ]
     },
     "metadata": {},
     "output_type": "display_data"
    },
    {
     "data": {
      "text/plain": [
       "'Lucas Gaúcho'"
      ]
     },
     "metadata": {},
     "output_type": "display_data"
    },
    {
     "data": {
      "text/plain": [
       "2"
      ]
     },
     "metadata": {},
     "output_type": "display_data"
    },
    {
     "data": {
      "text/plain": [
       "'Fabrício'"
      ]
     },
     "metadata": {},
     "output_type": "display_data"
    },
    {
     "data": {
      "text/plain": [
       "2"
      ]
     },
     "metadata": {},
     "output_type": "display_data"
    },
    {
     "data": {
      "text/plain": [
       "'D. Vinicius'"
      ]
     },
     "metadata": {},
     "output_type": "display_data"
    },
    {
     "data": {
      "text/plain": [
       "2"
      ]
     },
     "metadata": {},
     "output_type": "display_data"
    }
   ],
   "source": [
    "for i in similares[1][0][1:]:\n",
    "    display(df_atack_3.iloc[i][\"Jogador\"])\n",
    "    display(df_atack_3.iloc[i][\"cluster\"])"
   ]
  },
  {
   "cell_type": "markdown",
   "id": "6fa07cd2",
   "metadata": {},
   "source": [
    "#### Jogadores mais proximos ao Fernando Boldrin."
   ]
  },
  {
   "cell_type": "code",
   "execution_count": 34,
   "id": "ab47fbc6",
   "metadata": {},
   "outputs": [
    {
     "data": {
      "text/html": [
       "<div>\n",
       "<style scoped>\n",
       "    .dataframe tbody tr th:only-of-type {\n",
       "        vertical-align: middle;\n",
       "    }\n",
       "\n",
       "    .dataframe tbody tr th {\n",
       "        vertical-align: top;\n",
       "    }\n",
       "\n",
       "    .dataframe thead th {\n",
       "        text-align: right;\n",
       "    }\n",
       "</style>\n",
       "<table border=\"1\" class=\"dataframe\">\n",
       "  <thead>\n",
       "    <tr style=\"text-align: right;\">\n",
       "      <th></th>\n",
       "      <th>Jogador</th>\n",
       "      <th>Golos</th>\n",
       "      <th>Assistências</th>\n",
       "      <th>Duelos ganhos, %</th>\n",
       "      <th>Ações defensivas com êxito/90</th>\n",
       "      <th>Passes certos, %</th>\n",
       "      <th>cluster</th>\n",
       "    </tr>\n",
       "  </thead>\n",
       "  <tbody>\n",
       "    <tr>\n",
       "      <th>440</th>\n",
       "      <td>Fernando Boldrin</td>\n",
       "      <td>0</td>\n",
       "      <td>2</td>\n",
       "      <td>37.01</td>\n",
       "      <td>3.07</td>\n",
       "      <td>87.55</td>\n",
       "      <td>0</td>\n",
       "    </tr>\n",
       "  </tbody>\n",
       "</table>\n",
       "</div>"
      ],
      "text/plain": [
       "              Jogador  Golos  Assistências  Duelos ganhos, %  \\\n",
       "440  Fernando Boldrin      0             2             37.01   \n",
       "\n",
       "     Ações defensivas com êxito/90  Passes certos, %  cluster  \n",
       "440                           3.07             87.55        0  "
      ]
     },
     "execution_count": 34,
     "metadata": {},
     "output_type": "execute_result"
    }
   ],
   "source": [
    "df_atack_3[df_atack_3['Jogador'] == \"Fernando Boldrin\"]"
   ]
  },
  {
   "cell_type": "code",
   "execution_count": 35,
   "id": "733a68d3",
   "metadata": {},
   "outputs": [],
   "source": [
    "similares = knn.kneighbors(X.iloc[df_atack_3[df_atack_3['Jogador'] == \"Fernando Boldrin\"].index.tolist()])"
   ]
  },
  {
   "cell_type": "code",
   "execution_count": 36,
   "id": "b6195ef0",
   "metadata": {},
   "outputs": [
    {
     "data": {
      "text/plain": [
       "array([0.10074732, 0.15850768, 0.17688558, 0.18597115, 0.19152206])"
      ]
     },
     "execution_count": 36,
     "metadata": {},
     "output_type": "execute_result"
    }
   ],
   "source": [
    "similares[0][0][1:]"
   ]
  },
  {
   "cell_type": "code",
   "execution_count": 40,
   "id": "f4f38767",
   "metadata": {},
   "outputs": [
    {
     "data": {
      "text/plain": [
       "array([0.10074732, 0.15850768, 0.17688558, 0.18597115, 0.19152206])"
      ]
     },
     "execution_count": 40,
     "metadata": {},
     "output_type": "execute_result"
    }
   ],
   "source": [
    "np.sort(euclidean_distances(X, X.iloc[df_atack_3[df_atack_3['Jogador'] == \"Fernando Boldrin\"].index.tolist()]).flatten())[1:6]"
   ]
  },
  {
   "cell_type": "code",
   "execution_count": 37,
   "id": "00694083",
   "metadata": {},
   "outputs": [
    {
     "data": {
      "text/plain": [
       "'Marcos Guilherme'"
      ]
     },
     "metadata": {},
     "output_type": "display_data"
    },
    {
     "data": {
      "text/plain": [
       "0"
      ]
     },
     "metadata": {},
     "output_type": "display_data"
    },
    {
     "data": {
      "text/plain": [
       "'Thiago Andrade'"
      ]
     },
     "metadata": {},
     "output_type": "display_data"
    },
    {
     "data": {
      "text/plain": [
       "0"
      ]
     },
     "metadata": {},
     "output_type": "display_data"
    },
    {
     "data": {
      "text/plain": [
       "'Nenê Bonilha'"
      ]
     },
     "metadata": {},
     "output_type": "display_data"
    },
    {
     "data": {
      "text/plain": [
       "0"
      ]
     },
     "metadata": {},
     "output_type": "display_data"
    },
    {
     "data": {
      "text/plain": [
       "'Claudinho'"
      ]
     },
     "metadata": {},
     "output_type": "display_data"
    },
    {
     "data": {
      "text/plain": [
       "2"
      ]
     },
     "metadata": {},
     "output_type": "display_data"
    },
    {
     "data": {
      "text/plain": [
       "'Régis'"
      ]
     },
     "metadata": {},
     "output_type": "display_data"
    },
    {
     "data": {
      "text/plain": [
       "2"
      ]
     },
     "metadata": {},
     "output_type": "display_data"
    }
   ],
   "source": [
    "for i in similares[1][0][1:]:\n",
    "    display(df_atack_3.iloc[i][\"Jogador\"])\n",
    "    display(df_atack_3.iloc[i][\"cluster\"])"
   ]
  }
 ],
 "metadata": {
  "kernelspec": {
   "display_name": "Python 3 (ipykernel)",
   "language": "python",
   "name": "python3"
  },
  "language_info": {
   "codemirror_mode": {
    "name": "ipython",
    "version": 3
   },
   "file_extension": ".py",
   "mimetype": "text/x-python",
   "name": "python",
   "nbconvert_exporter": "python",
   "pygments_lexer": "ipython3",
   "version": "3.9.13"
  }
 },
 "nbformat": 4,
 "nbformat_minor": 5
}
